{
 "cells": [
  {
   "cell_type": "code",
   "execution_count": 1,
   "metadata": {
    "collapsed": true
   },
   "outputs": [],
   "source": [
    "import numpy as np\n",
    "import pandas as pd\n",
    "import gensim\n",
    "import os"
   ]
  },
  {
   "cell_type": "code",
   "execution_count": 3,
   "metadata": {
    "collapsed": true
   },
   "outputs": [],
   "source": [
    "df = pd.read_csv('classification_data_gdelt.csv')"
   ]
  },
  {
   "cell_type": "code",
   "execution_count": 21,
   "metadata": {},
   "outputs": [],
   "source": [
    "labels = df.Categorical_id"
   ]
  },
  {
   "cell_type": "code",
   "execution_count": 6,
   "metadata": {
    "collapsed": true
   },
   "outputs": [],
   "source": [
    "from nltk.tokenize import word_tokenize\n",
    "from nltk.corpus import stopwords\n",
    "stop_words = set(stopwords.words('english'))"
   ]
  },
  {
   "cell_type": "code",
   "execution_count": 7,
   "metadata": {
    "collapsed": true
   },
   "outputs": [],
   "source": [
    "ar = []"
   ]
  },
  {
   "cell_type": "code",
   "execution_count": null,
   "metadata": {
    "collapsed": true,
    "scrolled": true
   },
   "outputs": [],
   "source": [
    "#with open(\"glove.840B.300d.txt\", \"rb\") as lines:\n",
    "#    w2v = {line.split()[0]: np.array(map(float, line.split()[1:]))\n",
    "#           for line in lines}"
   ]
  },
  {
   "cell_type": "code",
   "execution_count": 8,
   "metadata": {
    "collapsed": true
   },
   "outputs": [],
   "source": [
    "ar=[]\n",
    "for i,row in df.iterrows():\n",
    "    data = row['Content']\n",
    "    data_tokens = word_tokenize(str(data).lower())\n",
    "    data_tokens = [w for w in data_tokens if not w in stop_words]\n",
    "    b = []\n",
    "    for w in data_tokens:\n",
    "        try:\n",
    "            b.append(glove_model[w])\n",
    "        except:\n",
    "            b.append(np.zeros(300))\n",
    "    #sentiment_score = np.array([row['sentiment_compound']])\n",
    "    avg_vector = np.array([np.mean(b,axis=0)])\n",
    "    ar.append(avg_vector)"
   ]
  },
  {
   "cell_type": "code",
   "execution_count": null,
   "metadata": {
    "collapsed": true
   },
   "outputs": [],
   "source": [
    "min_max_vector = np.concatenate((np.array([np.min(b,axis=0)]),np.array([np.max(b,axis=0)])),axis=1)"
   ]
  },
  {
   "cell_type": "code",
   "execution_count": null,
   "metadata": {
    "collapsed": true
   },
   "outputs": [],
   "source": []
  },
  {
   "cell_type": "code",
   "execution_count": null,
   "metadata": {
    "collapsed": true
   },
   "outputs": [],
   "source": [
    "ex = df.iloc[1]['Content']"
   ]
  },
  {
   "cell_type": "code",
   "execution_count": null,
   "metadata": {
    "collapsed": true
   },
   "outputs": [],
   "source": [
    "data_tokens = word_tokenize(str(ex).lower())\n",
    "data_tokens = [w for w in data_tokens if not w in stop_words]"
   ]
  },
  {
   "cell_type": "code",
   "execution_count": null,
   "metadata": {
    "collapsed": true
   },
   "outputs": [],
   "source": [
    "a_v = np.array([np.mean([glove_model.wv[w] for w in data_tokens],axis=0)])[0]"
   ]
  },
  {
   "cell_type": "code",
   "execution_count": null,
   "metadata": {
    "collapsed": true
   },
   "outputs": [],
   "source": [
    "from gensim.scripts.glove2word2vec import glove2word2vec\n",
    "glove2word2vec(glove_input_file=\"glove.840B.300d.txt\", word2vec_output_file=\"gensim_glove_vectors.txt\")"
   ]
  },
  {
   "cell_type": "code",
   "execution_count": 2,
   "metadata": {
    "collapsed": true
   },
   "outputs": [],
   "source": [
    "from gensim.models.keyedvectors import KeyedVectors\n",
    "glove_model = KeyedVectors.load_word2vec_format(\"gensim_glove_vectors.txt\", binary=False)"
   ]
  },
  {
   "cell_type": "code",
   "execution_count": 26,
   "metadata": {
    "collapsed": true
   },
   "outputs": [],
   "source": [
    "from sklearn.linear_model import LogisticRegression\n",
    "from sklearn.ensemble import RandomForestClassifier\n",
    "from sklearn.naive_bayes import MultinomialNB\n",
    "\n",
    "from sklearn.model_selection import cross_val_score\n",
    "\n",
    "\n",
    "models = [\n",
    "    LogisticRegression(C = 2.0,random_state=0),\n",
    "]\n",
    "CV = 10\n",
    "cv_df = pd.DataFrame(index=range(CV * len(models)))\n",
    "entries = []\n",
    "for model in models:\n",
    "  model_name = model.__class__.__name__\n",
    "  accuracies = cross_val_score(model, features_scaled, labels, scoring='accuracy', cv=CV)\n",
    "  for fold_idx, accuracy in enumerate(accuracies):\n",
    "    entries.append((model_name, fold_idx, accuracy))\n",
    "cv_df = pd.DataFrame(entries, columns=['model_name', 'fold_idx', 'accuracy'])"
   ]
  },
  {
   "cell_type": "code",
   "execution_count": 11,
   "metadata": {
    "collapsed": true
   },
   "outputs": [],
   "source": [
    "features = np.array(ar)"
   ]
  },
  {
   "cell_type": "code",
   "execution_count": null,
   "metadata": {
    "collapsed": true
   },
   "outputs": [],
   "source": [
    "from sklearn.preprocessing import normalize\n",
    "normed_features = normalize(features, axis=1, norm='l1')"
   ]
  },
  {
   "cell_type": "code",
   "execution_count": 16,
   "metadata": {},
   "outputs": [],
   "source": [
    "features = features.reshape((102442,300))"
   ]
  },
  {
   "cell_type": "code",
   "execution_count": 17,
   "metadata": {},
   "outputs": [],
   "source": [
    "import sklearn.preprocessing as sk\n",
    "from sklearn.preprocessing import scale\n",
    "scaler = sk.MinMaxScaler(feature_range=(0, 1))\n",
    "scaler = scaler.fit(features)\n",
    "features_scaled = scaler.transform(features)"
   ]
  },
  {
   "cell_type": "code",
   "execution_count": 27,
   "metadata": {},
   "outputs": [
    {
     "data": {
      "text/plain": [
       "model_name\n",
       "LogisticRegression    0.5\n",
       "Name: accuracy, dtype: float64"
      ]
     },
     "execution_count": 27,
     "metadata": {},
     "output_type": "execute_result"
    }
   ],
   "source": [
    "cv_df.groupby('model_name').accuracy.mean()"
   ]
  },
  {
   "cell_type": "code",
   "execution_count": null,
   "metadata": {
    "collapsed": true
   },
   "outputs": [],
   "source": [
    "from sklearn import svm \n",
    "\n",
    "model = svm.SVC()\n",
    "\n",
    "accuracies = cross_val_score(model, features_scaled, labels, scoring='accuracy', cv=CV)\n",
    "\n",
    "for fold_idx, accuracy in enumerate(accuracies):\n",
    "    entries.append(('SVM', fold_idx, accuracy))\n",
    "cv_df_svm = pd.DataFrame(entries, columns=['model_name', 'fold_idx', 'accuracy'])\n",
    "cv_df_svm.groupby('model_name').accuracy.mean()"
   ]
  },
  {
   "cell_type": "code",
   "execution_count": null,
   "metadata": {
    "collapsed": true
   },
   "outputs": [],
   "source": [
    "w2v_model = KeyedVectors.load_word2vec_format(\"GoogleNews-vectors-negative300.bin\", binary=True)"
   ]
  },
  {
   "cell_type": "code",
   "execution_count": 18,
   "metadata": {
    "collapsed": true
   },
   "outputs": [],
   "source": [
    "df['Categorical_id'] = ''"
   ]
  },
  {
   "cell_type": "code",
   "execution_count": 19,
   "metadata": {
    "collapsed": true
   },
   "outputs": [],
   "source": [
    "df.Categorical_id = pd.Categorical(df.Category)"
   ]
  },
  {
   "cell_type": "code",
   "execution_count": 20,
   "metadata": {
    "collapsed": true
   },
   "outputs": [],
   "source": [
    "df.Categorical_id = df.Categorical_id.cat.codes"
   ]
  },
  {
   "cell_type": "code",
   "execution_count": null,
   "metadata": {
    "collapsed": true
   },
   "outputs": [],
   "source": [
    "df.shape"
   ]
  },
  {
   "cell_type": "code",
   "execution_count": null,
   "metadata": {
    "collapsed": true
   },
   "outputs": [],
   "source": [
    "from sklearn.ensemble import BaggingClassifier\n",
    "#bagging = BaggingClassifier(LogisticRegression(random_state=0),\n",
    "#     max_samples=0.5, max_features=0.5)"
   ]
  },
  {
   "cell_type": "code",
   "execution_count": null,
   "metadata": {
    "collapsed": true
   },
   "outputs": [],
   "source": [
    "accuracies = cross_val_score(bagging, features_scaled, labels, scoring='accuracy', cv=CV)"
   ]
  },
  {
   "cell_type": "code",
   "execution_count": null,
   "metadata": {
    "collapsed": true
   },
   "outputs": [],
   "source": [
    "accuracies.mean()"
   ]
  },
  {
   "cell_type": "code",
   "execution_count": null,
   "metadata": {
    "collapsed": true
   },
   "outputs": [],
   "source": [
    "from sklearn import model_selection\n",
    "\n",
    "from sklearn.ensemble import RandomForestClassifier\n",
    "from sklearn.ensemble import AdaBoostClassifier\n",
    "\n",
    "from sklearn.model_selection import cross_val_score\n",
    "#model = ExtraTreesClassifier(n_estimators=100, max_features=7)\n",
    "#kfold = model_selection.KFold(n_splits=10, random_state=2018)\n",
    "#model = AdaBoostClassifier(n_estimators=100, random_state=2018)\n",
    "model = GradientBoostingClassifier(n_estimators=100, random_state=2018)\n",
    "bagging = BaggingClassifier(model,\n",
    "                            max_samples=0.5, max_features=0.5)\n",
    "accuracies = cross_val_score(bagging, features_scaled, labels, scoring='accuracy', cv=CV)"
   ]
  },
  {
   "cell_type": "code",
   "execution_count": null,
   "metadata": {
    "collapsed": true
   },
   "outputs": [],
   "source": [
    "accuracies.mean()"
   ]
  },
  {
   "cell_type": "code",
   "execution_count": null,
   "metadata": {
    "collapsed": true
   },
   "outputs": [],
   "source": [
    "from sklearn.ensemble import VotingClassifier\n",
    "from sklearn import svm \n",
    "lr = LogisticRegression(random_state=0)\n",
    "ex_trees = ExtraTreesClassifier(n_estimators=100, max_features=7)\n",
    "sv = svm.SVC(probability=True)\n",
    "eclf = VotingClassifier(estimators=[('lr', lr), ('trees', ex_trees), ('sv', sv)], voting='soft',weights=[1,1,1])\n",
    "accuracies = cross_val_score(eclf, features_scaled, labels, cv=10,)"
   ]
  },
  {
   "cell_type": "code",
   "execution_count": null,
   "metadata": {
    "collapsed": true
   },
   "outputs": [],
   "source": [
    "accuracies.mean()"
   ]
  },
  {
   "cell_type": "code",
   "execution_count": 9,
   "metadata": {
    "collapsed": true
   },
   "outputs": [],
   "source": [
    "from xgboost import XGBClassifier"
   ]
  },
  {
   "cell_type": "code",
   "execution_count": 23,
   "metadata": {},
   "outputs": [],
   "source": [
    "from sklearn.model_selection import cross_val_score\n",
    "\n",
    "\n",
    "model = XGBClassifier()\n",
    "accuracies = cross_val_score(model, features_scaled, labels, cv=10)"
   ]
  },
  {
   "cell_type": "code",
   "execution_count": 25,
   "metadata": {},
   "outputs": [
    {
     "data": {
      "text/plain": [
       "array([ 0.5,  0.5,  0.5,  0.5,  0.5,  0.5,  0.5,  0.5,  0.5,  0.5])"
      ]
     },
     "execution_count": 25,
     "metadata": {},
     "output_type": "execute_result"
    }
   ],
   "source": [
    "accuracies"
   ]
  },
  {
   "cell_type": "code",
   "execution_count": null,
   "metadata": {
    "collapsed": true
   },
   "outputs": [],
   "source": [
    "sv = svm.SVC(kernel='sigmoid')\n",
    "accuracies = cross_val_score(sv, features_scaled, labels, cv=10)"
   ]
  },
  {
   "cell_type": "code",
   "execution_count": null,
   "metadata": {
    "collapsed": true
   },
   "outputs": [],
   "source": [
    "base_models = [ExtraTreesClassifier(n_estimators=100,max_features=7),\n",
    "              XGBClassifier(),\n",
    "              KNeighborsClassifier(n_neighbors=5)]"
   ]
  },
  {
   "cell_type": "code",
   "execution_count": null,
   "metadata": {
    "collapsed": true
   },
   "outputs": [],
   "source": [
    "blending_model = LogisticRegression(random_state=0)"
   ]
  },
  {
   "cell_type": "code",
   "execution_count": null,
   "metadata": {
    "collapsed": true
   },
   "outputs": [],
   "source": []
  },
  {
   "cell_type": "code",
   "execution_count": null,
   "metadata": {
    "collapsed": true
   },
   "outputs": [],
   "source": [
    "np.save('classification_features',features_scaled)"
   ]
  },
  {
   "cell_type": "code",
   "execution_count": 7,
   "metadata": {
    "collapsed": true
   },
   "outputs": [],
   "source": [
    "features_scaled = np.load('classification_features.npy')"
   ]
  },
  {
   "cell_type": "code",
   "execution_count": null,
   "metadata": {
    "collapsed": true
   },
   "outputs": [],
   "source": [
    "from sklearn.neighbors import KNeighborsClassifier\n",
    "neigh = KNeighborsClassifier(n_neighbors=5)\n",
    "accuracies = cross_val_score(model, features_scaled, labels, cv=10)"
   ]
  },
  {
   "cell_type": "code",
   "execution_count": null,
   "metadata": {
    "collapsed": true
   },
   "outputs": [],
   "source": [
    "accuracies.mean()"
   ]
  },
  {
   "cell_type": "code",
   "execution_count": null,
   "metadata": {
    "collapsed": true
   },
   "outputs": [],
   "source": [
    "from mlxtend.classifier import StackingClassifier"
   ]
  },
  {
   "cell_type": "code",
   "execution_count": null,
   "metadata": {
    "collapsed": true
   },
   "outputs": [],
   "source": [
    "sc = StackingClassifier(classifiers=base_models, \n",
    "                          meta_classifier=blending_model)"
   ]
  },
  {
   "cell_type": "code",
   "execution_count": null,
   "metadata": {
    "collapsed": true
   },
   "outputs": [],
   "source": [
    "accuracies = cross_val_score(sc, features_scaled, labels, cv=10)"
   ]
  },
  {
   "cell_type": "code",
   "execution_count": null,
   "metadata": {
    "collapsed": true
   },
   "outputs": [],
   "source": [
    "accuracies.mean()"
   ]
  },
  {
   "cell_type": "code",
   "execution_count": 17,
   "metadata": {},
   "outputs": [
    {
     "ename": "TypeError",
     "evalue": "'LogisticRegression' object is not callable",
     "output_type": "error",
     "traceback": [
      "\u001b[0;31m---------------------------------------------------------------------------\u001b[0m",
      "\u001b[0;31mTypeError\u001b[0m                                 Traceback (most recent call last)",
      "\u001b[0;32m<ipython-input-17-c2ddf78765f9>\u001b[0m in \u001b[0;36m<module>\u001b[0;34m()\u001b[0m\n\u001b[1;32m     11\u001b[0m     \u001b[0;32mdef\u001b[0m \u001b[0mpredict\u001b[0m\u001b[0;34m(\u001b[0m\u001b[0mself\u001b[0m\u001b[0;34m,\u001b[0m \u001b[0mX\u001b[0m\u001b[0;34m)\u001b[0m\u001b[0;34m:\u001b[0m\u001b[0;34m\u001b[0m\u001b[0m\n\u001b[1;32m     12\u001b[0m         \u001b[0;32mreturn\u001b[0m \u001b[0mself\u001b[0m\u001b[0;34m.\u001b[0m\u001b[0mpredict_proba\u001b[0m\u001b[0;34m(\u001b[0m\u001b[0mX\u001b[0m\u001b[0;34m)\u001b[0m\u001b[0;34m[\u001b[0m\u001b[0;34m:\u001b[0m\u001b[0;34m,\u001b[0m \u001b[0;36m1\u001b[0m\u001b[0;34m]\u001b[0m\u001b[0;34m\u001b[0m\u001b[0m\n\u001b[0;32m---> 13\u001b[0;31m \u001b[0mbase_estimator\u001b[0m \u001b[0;34m=\u001b[0m \u001b[0mRandomForestClassifier_compability\u001b[0m\u001b[0;34m(\u001b[0m\u001b[0;34m)\u001b[0m\u001b[0;34m\u001b[0m\u001b[0m\n\u001b[0m\u001b[1;32m     14\u001b[0m \u001b[0mmodel\u001b[0m \u001b[0;34m=\u001b[0m \u001b[0mGradientBoostingClassifier\u001b[0m\u001b[0;34m(\u001b[0m\u001b[0minit\u001b[0m\u001b[0;34m=\u001b[0m\u001b[0mbase_estimator\u001b[0m\u001b[0;34m,\u001b[0m\u001b[0mn_estimators\u001b[0m\u001b[0;34m=\u001b[0m\u001b[0;36m100\u001b[0m\u001b[0;34m,\u001b[0m \u001b[0mrandom_state\u001b[0m\u001b[0;34m=\u001b[0m\u001b[0;36m2018\u001b[0m\u001b[0;34m)\u001b[0m\u001b[0;34m\u001b[0m\u001b[0m\n\u001b[1;32m     15\u001b[0m \u001b[0;31m#neigh = KNeighborsClassifier(n_neighbors=5)\u001b[0m\u001b[0;34m\u001b[0m\u001b[0;34m\u001b[0m\u001b[0m\n",
      "\u001b[0;31mTypeError\u001b[0m: 'LogisticRegression' object is not callable"
     ]
    }
   ],
   "source": [
    "from sklearn.ensemble import GradientBoostingClassifier\n",
    "from sklearn.ensemble import ExtraTreesClassifier\n",
    "from sklearn.model_selection import cross_val_score\n",
    "from sklearn.neighbors import KNeighborsClassifier\n",
    "from sklearn.linear_model import LogisticRegression\n",
    "\n",
    "lr = LogisticRegression(C=2.0, random_state=0)\n",
    "lr.fit(features_scaled,labels)\n",
    "fs = lr.predict_proba(features_scaled)[:,1]\n",
    "class RandomForestClassifier_compability(lr):\n",
    "    def predict(self, X):\n",
    "        return self.predict_proba(X)[:, 1]\n",
    "base_estimator = RandomForestClassifier_compability()\n",
    "model = GradientBoostingClassifier(init=base_estimator,n_estimators=100, random_state=2018)\n",
    "#neigh = KNeighborsClassifier(n_neighbors=5)\n",
    "#lr = LogisticRegression(C=2.0, random_state=0)\n",
    "#model = GradientBoostingClassifier(lr,n_estimators=100, random_state=2018)\n",
    "accuracies = cross_val_score(model, features_scaled, labels, scoring='accuracy',cv=10)"
   ]
  },
  {
   "cell_type": "code",
   "execution_count": 18,
   "metadata": {
    "collapsed": true
   },
   "outputs": [],
   "source": [
    "import xgboost as xgb"
   ]
  },
  {
   "cell_type": "code",
   "execution_count": 35,
   "metadata": {
    "collapsed": true
   },
   "outputs": [],
   "source": [
    "from sklearn.model_selection import train_test_split\n",
    "X_train, X_test, y_train, y_test = train_test_split(features_scaled, labels, test_size=0.33, random_state=42)"
   ]
  },
  {
   "cell_type": "code",
   "execution_count": 19,
   "metadata": {
    "collapsed": true
   },
   "outputs": [],
   "source": [
    "xgb_clf = xgb.XGBClassifier()"
   ]
  },
  {
   "cell_type": "code",
   "execution_count": 36,
   "metadata": {},
   "outputs": [
    {
     "data": {
      "text/plain": [
       "XGBClassifier(base_score=0.5, booster='gbtree', colsample_bylevel=1,\n",
       "       colsample_bytree=1, gamma=0, learning_rate=0.1, max_delta_step=0,\n",
       "       max_depth=3, min_child_weight=1, missing=None, n_estimators=100,\n",
       "       n_jobs=1, nthread=None, objective='binary:logistic', random_state=0,\n",
       "       reg_alpha=0, reg_lambda=1, scale_pos_weight=1, seed=None,\n",
       "       silent=True, subsample=1)"
      ]
     },
     "execution_count": 36,
     "metadata": {},
     "output_type": "execute_result"
    }
   ],
   "source": [
    "xgb_clf.fit(X_train,y_train)"
   ]
  },
  {
   "cell_type": "code",
   "execution_count": 42,
   "metadata": {
    "collapsed": true
   },
   "outputs": [],
   "source": [
    "from xgboost import XGBClassifier, DMatrix\n",
    "train_x_mat = DMatrix(X_train)"
   ]
  },
  {
   "cell_type": "code",
   "execution_count": 43,
   "metadata": {
    "collapsed": true
   },
   "outputs": [],
   "source": [
    "train_xgb_pred_mat = xgb_clf.get_booster().predict(train_x_mat,pred_leaf = True)"
   ]
  },
  {
   "cell_type": "code",
   "execution_count": 44,
   "metadata": {
    "collapsed": true
   },
   "outputs": [],
   "source": [
    "lr = LogisticRegression(C=2.0, random_state=0)"
   ]
  },
  {
   "cell_type": "code",
   "execution_count": 45,
   "metadata": {
    "collapsed": true
   },
   "outputs": [],
   "source": [
    "from sklearn.preprocessing import OneHotEncoder\n",
    "one_hot_encoder = OneHotEncoder()\n",
    "train_lr_feature_mat = one_hot_encoder.fit_transform(train_xgb_pred_mat)"
   ]
  },
  {
   "cell_type": "code",
   "execution_count": 46,
   "metadata": {},
   "outputs": [
    {
     "data": {
      "text/plain": [
       "LogisticRegression(C=2.0, class_weight=None, dual=False, fit_intercept=True,\n",
       "          intercept_scaling=1, max_iter=100, multi_class='ovr', n_jobs=1,\n",
       "          penalty='l2', random_state=0, solver='liblinear', tol=0.0001,\n",
       "          verbose=0, warm_start=False)"
      ]
     },
     "execution_count": 46,
     "metadata": {},
     "output_type": "execute_result"
    }
   ],
   "source": [
    "lr.fit(train_lr_feature_mat,y_train)"
   ]
  },
  {
   "cell_type": "code",
   "execution_count": 48,
   "metadata": {
    "collapsed": true
   },
   "outputs": [],
   "source": [
    "test_x_mat = DMatrix(X_test)"
   ]
  },
  {
   "cell_type": "code",
   "execution_count": 49,
   "metadata": {
    "collapsed": true
   },
   "outputs": [],
   "source": [
    "xgb_pred_mat = xgb_clf.get_booster().predict(test_x_mat,pred_leaf = True)"
   ]
  },
  {
   "cell_type": "code",
   "execution_count": 50,
   "metadata": {
    "collapsed": true
   },
   "outputs": [],
   "source": [
    "lr_feature = one_hot_encoder.transform(xgb_pred_mat)"
   ]
  },
  {
   "cell_type": "code",
   "execution_count": null,
   "metadata": {
    "collapsed": true
   },
   "outputs": [],
   "source": []
  },
  {
   "cell_type": "code",
   "execution_count": 51,
   "metadata": {
    "collapsed": true
   },
   "outputs": [],
   "source": [
    "y_pred = lr.predict(lr_feature)"
   ]
  },
  {
   "cell_type": "code",
   "execution_count": 52,
   "metadata": {},
   "outputs": [
    {
     "data": {
      "text/plain": [
       "0.78913793103448271"
      ]
     },
     "execution_count": 52,
     "metadata": {},
     "output_type": "execute_result"
    }
   ],
   "source": [
    "from sklearn.metrics import accuracy_score\n",
    "accuracy_score(y_pred,y_test)"
   ]
  },
  {
   "cell_type": "code",
   "execution_count": null,
   "metadata": {
    "collapsed": true
   },
   "outputs": [],
   "source": [
    "from sklearn.model_selection import GridSearchCV\n",
    "from sklearn.neighbors import KNeighborsClassifier\n",
    "parameters = {'n_neighbors': [2,5,7,10]}\n",
    "model = KNeighborsClassifier()\n",
    "clf = GridSearchCV(model,parameters,cv=10)\n",
    "clf.fit(features_scaled,labels)"
   ]
  },
  {
   "cell_type": "code",
   "execution_count": null,
   "metadata": {
    "collapsed": true
   },
   "outputs": [],
   "source": [
    "clf.best_params_"
   ]
  },
  {
   "cell_type": "code",
   "execution_count": 29,
   "metadata": {},
   "outputs": [
    {
     "data": {
      "text/html": [
       "<div>\n",
       "<style>\n",
       "    .dataframe thead tr:only-child th {\n",
       "        text-align: right;\n",
       "    }\n",
       "\n",
       "    .dataframe thead th {\n",
       "        text-align: left;\n",
       "    }\n",
       "\n",
       "    .dataframe tbody tr th {\n",
       "        vertical-align: top;\n",
       "    }\n",
       "</style>\n",
       "<table border=\"1\" class=\"dataframe\">\n",
       "  <thead>\n",
       "    <tr style=\"text-align: right;\">\n",
       "      <th></th>\n",
       "      <th>Unnamed: 0</th>\n",
       "      <th>Category_id</th>\n",
       "      <th>Category</th>\n",
       "      <th>Content</th>\n",
       "      <th>Categorical_id</th>\n",
       "    </tr>\n",
       "  </thead>\n",
       "  <tbody>\n",
       "    <tr>\n",
       "      <th>0</th>\n",
       "      <td>0</td>\n",
       "      <td>0</td>\n",
       "      <td>unrest</td>\n",
       "      <td>Bringing to an end the musical chairs game for...</td>\n",
       "      <td>1</td>\n",
       "    </tr>\n",
       "    <tr>\n",
       "      <th>1</th>\n",
       "      <td>1</td>\n",
       "      <td>0</td>\n",
       "      <td>unrest</td>\n",
       "      <td>MUMBAI: Request for a seat share landed a yout...</td>\n",
       "      <td>1</td>\n",
       "    </tr>\n",
       "    <tr>\n",
       "      <th>2</th>\n",
       "      <td>2</td>\n",
       "      <td>0</td>\n",
       "      <td>unrest</td>\n",
       "      <td>The CIA staff of the Mohali police on Saturday...</td>\n",
       "      <td>1</td>\n",
       "    </tr>\n",
       "    <tr>\n",
       "      <th>3</th>\n",
       "      <td>3</td>\n",
       "      <td>0</td>\n",
       "      <td>unrest</td>\n",
       "      <td>THE PREDICTION of snowfall on New Years Eve dr...</td>\n",
       "      <td>1</td>\n",
       "    </tr>\n",
       "    <tr>\n",
       "      <th>4</th>\n",
       "      <td>4</td>\n",
       "      <td>0</td>\n",
       "      <td>unrest</td>\n",
       "      <td>This was the year when old certainties crumble...</td>\n",
       "      <td>1</td>\n",
       "    </tr>\n",
       "    <tr>\n",
       "      <th>5</th>\n",
       "      <td>5</td>\n",
       "      <td>0</td>\n",
       "      <td>unrest</td>\n",
       "      <td>MUMBAI: The Enforcement Directorate (ED) is in...</td>\n",
       "      <td>1</td>\n",
       "    </tr>\n",
       "    <tr>\n",
       "      <th>6</th>\n",
       "      <td>6</td>\n",
       "      <td>0</td>\n",
       "      <td>unrest</td>\n",
       "      <td>VISAKHAPATNAM: Visakha Institute of Medical Sc...</td>\n",
       "      <td>1</td>\n",
       "    </tr>\n",
       "    <tr>\n",
       "      <th>7</th>\n",
       "      <td>7</td>\n",
       "      <td>0</td>\n",
       "      <td>unrest</td>\n",
       "      <td>The Samajwadi Party (SP) office and Chief Mini...</td>\n",
       "      <td>1</td>\n",
       "    </tr>\n",
       "    <tr>\n",
       "      <th>8</th>\n",
       "      <td>8</td>\n",
       "      <td>0</td>\n",
       "      <td>unrest</td>\n",
       "      <td>PATNA: The state police are making all possibl...</td>\n",
       "      <td>1</td>\n",
       "    </tr>\n",
       "    <tr>\n",
       "      <th>9</th>\n",
       "      <td>9</td>\n",
       "      <td>0</td>\n",
       "      <td>unrest</td>\n",
       "      <td>MADURAI: While many All India Anna Dravida Mun...</td>\n",
       "      <td>1</td>\n",
       "    </tr>\n",
       "    <tr>\n",
       "      <th>10</th>\n",
       "      <td>10</td>\n",
       "      <td>0</td>\n",
       "      <td>unrest</td>\n",
       "      <td>Making the latest move in the ongoing Samajwad...</td>\n",
       "      <td>1</td>\n",
       "    </tr>\n",
       "    <tr>\n",
       "      <th>11</th>\n",
       "      <td>11</td>\n",
       "      <td>0</td>\n",
       "      <td>unrest</td>\n",
       "      <td>After continuous electoral debacles in over tw...</td>\n",
       "      <td>1</td>\n",
       "    </tr>\n",
       "    <tr>\n",
       "      <th>12</th>\n",
       "      <td>12</td>\n",
       "      <td>0</td>\n",
       "      <td>unrest</td>\n",
       "      <td>Newly appointed Army Chief General Bipin Rawat...</td>\n",
       "      <td>1</td>\n",
       "    </tr>\n",
       "    <tr>\n",
       "      <th>13</th>\n",
       "      <td>13</td>\n",
       "      <td>0</td>\n",
       "      <td>unrest</td>\n",
       "      <td>New Army Chief General Bipin Rawat Sunday said...</td>\n",
       "      <td>1</td>\n",
       "    </tr>\n",
       "    <tr>\n",
       "      <th>14</th>\n",
       "      <td>14</td>\n",
       "      <td>0</td>\n",
       "      <td>unrest</td>\n",
       "      <td>India and Pakistan on Sunday exchanged for the...</td>\n",
       "      <td>1</td>\n",
       "    </tr>\n",
       "    <tr>\n",
       "      <th>15</th>\n",
       "      <td>15</td>\n",
       "      <td>0</td>\n",
       "      <td>unrest</td>\n",
       "      <td>The National Security Guard website was hacked...</td>\n",
       "      <td>1</td>\n",
       "    </tr>\n",
       "    <tr>\n",
       "      <th>16</th>\n",
       "      <td>16</td>\n",
       "      <td>0</td>\n",
       "      <td>unrest</td>\n",
       "      <td>CHENNAI: DMK treasurer M K Stalin on Friday de...</td>\n",
       "      <td>1</td>\n",
       "    </tr>\n",
       "    <tr>\n",
       "      <th>17</th>\n",
       "      <td>17</td>\n",
       "      <td>0</td>\n",
       "      <td>unrest</td>\n",
       "      <td>Pakistani troops violated the ceasefire this m...</td>\n",
       "      <td>1</td>\n",
       "    </tr>\n",
       "    <tr>\n",
       "      <th>18</th>\n",
       "      <td>18</td>\n",
       "      <td>0</td>\n",
       "      <td>unrest</td>\n",
       "      <td>The crisis within the Samajwadi Party refused ...</td>\n",
       "      <td>1</td>\n",
       "    </tr>\n",
       "    <tr>\n",
       "      <th>19</th>\n",
       "      <td>19</td>\n",
       "      <td>0</td>\n",
       "      <td>unrest</td>\n",
       "      <td>Maharashtra Police will start Bharosa Cell in ...</td>\n",
       "      <td>1</td>\n",
       "    </tr>\n",
       "    <tr>\n",
       "      <th>20</th>\n",
       "      <td>20</td>\n",
       "      <td>0</td>\n",
       "      <td>unrest</td>\n",
       "      <td>Renewing its demand, India on Sunday asked Pak...</td>\n",
       "      <td>1</td>\n",
       "    </tr>\n",
       "    <tr>\n",
       "      <th>21</th>\n",
       "      <td>21</td>\n",
       "      <td>0</td>\n",
       "      <td>unrest</td>\n",
       "      <td>Pakistan on Sunday said Indias bid at the UN t...</td>\n",
       "      <td>1</td>\n",
       "    </tr>\n",
       "    <tr>\n",
       "      <th>22</th>\n",
       "      <td>22</td>\n",
       "      <td>0</td>\n",
       "      <td>unrest</td>\n",
       "      <td>A youth hurled a shoe at Delhi Chief Minister ...</td>\n",
       "      <td>1</td>\n",
       "    </tr>\n",
       "    <tr>\n",
       "      <th>23</th>\n",
       "      <td>23</td>\n",
       "      <td>0</td>\n",
       "      <td>unrest</td>\n",
       "      <td>The budget session of Jammu and Kashmir Assemb...</td>\n",
       "      <td>1</td>\n",
       "    </tr>\n",
       "    <tr>\n",
       "      <th>24</th>\n",
       "      <td>24</td>\n",
       "      <td>0</td>\n",
       "      <td>unrest</td>\n",
       "      <td>Mangaluru: Move to demonetize high value curre...</td>\n",
       "      <td>1</td>\n",
       "    </tr>\n",
       "    <tr>\n",
       "      <th>25</th>\n",
       "      <td>25</td>\n",
       "      <td>0</td>\n",
       "      <td>unrest</td>\n",
       "      <td>MADURAI: The Potential Linked Credit plan prep...</td>\n",
       "      <td>1</td>\n",
       "    </tr>\n",
       "    <tr>\n",
       "      <th>26</th>\n",
       "      <td>26</td>\n",
       "      <td>0</td>\n",
       "      <td>unrest</td>\n",
       "      <td>India and Pakistan will begin the new year fac...</td>\n",
       "      <td>1</td>\n",
       "    </tr>\n",
       "    <tr>\n",
       "      <th>27</th>\n",
       "      <td>27</td>\n",
       "      <td>0</td>\n",
       "      <td>unrest</td>\n",
       "      <td>MUMBAI: Home loan rates have fallen to their l...</td>\n",
       "      <td>1</td>\n",
       "    </tr>\n",
       "    <tr>\n",
       "      <th>28</th>\n",
       "      <td>28</td>\n",
       "      <td>0</td>\n",
       "      <td>unrest</td>\n",
       "      <td>In an effort to spend their vacations in uniqu...</td>\n",
       "      <td>1</td>\n",
       "    </tr>\n",
       "    <tr>\n",
       "      <th>29</th>\n",
       "      <td>29</td>\n",
       "      <td>0</td>\n",
       "      <td>unrest</td>\n",
       "      <td>The last few months have been quite eventful f...</td>\n",
       "      <td>1</td>\n",
       "    </tr>\n",
       "    <tr>\n",
       "      <th>...</th>\n",
       "      <td>...</td>\n",
       "      <td>...</td>\n",
       "      <td>...</td>\n",
       "      <td>...</td>\n",
       "      <td>...</td>\n",
       "    </tr>\n",
       "    <tr>\n",
       "      <th>102412</th>\n",
       "      <td>102412</td>\n",
       "      <td>1</td>\n",
       "      <td>other</td>\n",
       "      <td>While many political observers see Rajinikanth...</td>\n",
       "      <td>0</td>\n",
       "    </tr>\n",
       "    <tr>\n",
       "      <th>102413</th>\n",
       "      <td>102413</td>\n",
       "      <td>1</td>\n",
       "      <td>other</td>\n",
       "      <td>UNVEILING HIS vision for 2018 in his last Mann...</td>\n",
       "      <td>0</td>\n",
       "    </tr>\n",
       "    <tr>\n",
       "      <th>102414</th>\n",
       "      <td>102414</td>\n",
       "      <td>1</td>\n",
       "      <td>other</td>\n",
       "      <td>It was a damp year for the startup sector in t...</td>\n",
       "      <td>0</td>\n",
       "    </tr>\n",
       "    <tr>\n",
       "      <th>102415</th>\n",
       "      <td>102415</td>\n",
       "      <td>1</td>\n",
       "      <td>other</td>\n",
       "      <td>The Directorate of Revenue Intelligence (DRI) ...</td>\n",
       "      <td>0</td>\n",
       "    </tr>\n",
       "    <tr>\n",
       "      <th>102416</th>\n",
       "      <td>102416</td>\n",
       "      <td>1</td>\n",
       "      <td>other</td>\n",
       "      <td>Hours after news spread of a 27-year-old being...</td>\n",
       "      <td>0</td>\n",
       "    </tr>\n",
       "    <tr>\n",
       "      <th>102417</th>\n",
       "      <td>102417</td>\n",
       "      <td>1</td>\n",
       "      <td>other</td>\n",
       "      <td>Hours before the midnight release of the first...</td>\n",
       "      <td>0</td>\n",
       "    </tr>\n",
       "    <tr>\n",
       "      <th>102418</th>\n",
       "      <td>102418</td>\n",
       "      <td>1</td>\n",
       "      <td>other</td>\n",
       "      <td>The family of Sepoy Jagsir Singh (32) was awai...</td>\n",
       "      <td>0</td>\n",
       "    </tr>\n",
       "    <tr>\n",
       "      <th>102419</th>\n",
       "      <td>102419</td>\n",
       "      <td>1</td>\n",
       "      <td>other</td>\n",
       "      <td>Five Central Reserve Police Force personnel we...</td>\n",
       "      <td>0</td>\n",
       "    </tr>\n",
       "    <tr>\n",
       "      <th>102420</th>\n",
       "      <td>102420</td>\n",
       "      <td>1</td>\n",
       "      <td>other</td>\n",
       "      <td>Uttar Pradesh police on Sunday said that two w...</td>\n",
       "      <td>0</td>\n",
       "    </tr>\n",
       "    <tr>\n",
       "      <th>102421</th>\n",
       "      <td>102421</td>\n",
       "      <td>1</td>\n",
       "      <td>other</td>\n",
       "      <td>(By Jagruti Katkar)Reacting to recent controve...</td>\n",
       "      <td>0</td>\n",
       "    </tr>\n",
       "    <tr>\n",
       "      <th>102422</th>\n",
       "      <td>102422</td>\n",
       "      <td>1</td>\n",
       "      <td>other</td>\n",
       "      <td>An inquiry was ordered on Saturday into the ar...</td>\n",
       "      <td>0</td>\n",
       "    </tr>\n",
       "    <tr>\n",
       "      <th>102423</th>\n",
       "      <td>102423</td>\n",
       "      <td>1</td>\n",
       "      <td>other</td>\n",
       "      <td>Kitchen Inspection\\nOn a lean working day last...</td>\n",
       "      <td>0</td>\n",
       "    </tr>\n",
       "    <tr>\n",
       "      <th>102424</th>\n",
       "      <td>102424</td>\n",
       "      <td>1</td>\n",
       "      <td>other</td>\n",
       "      <td>In the Chinese calendar, 2018 is the Year of t...</td>\n",
       "      <td>0</td>\n",
       "    </tr>\n",
       "    <tr>\n",
       "      <th>102425</th>\n",
       "      <td>102425</td>\n",
       "      <td>1</td>\n",
       "      <td>other</td>\n",
       "      <td>State BJP president Dilip Ghosh on Sunday brus...</td>\n",
       "      <td>0</td>\n",
       "    </tr>\n",
       "    <tr>\n",
       "      <th>102426</th>\n",
       "      <td>102426</td>\n",
       "      <td>1</td>\n",
       "      <td>other</td>\n",
       "      <td>Failing to hire monkey catchers in the capital...</td>\n",
       "      <td>0</td>\n",
       "    </tr>\n",
       "    <tr>\n",
       "      <th>102427</th>\n",
       "      <td>102427</td>\n",
       "      <td>1</td>\n",
       "      <td>other</td>\n",
       "      <td>Two relatives of 1 Above lounge owners Kripesh...</td>\n",
       "      <td>0</td>\n",
       "    </tr>\n",
       "    <tr>\n",
       "      <th>102428</th>\n",
       "      <td>102428</td>\n",
       "      <td>1</td>\n",
       "      <td>other</td>\n",
       "      <td>For most part of history, light has been the o...</td>\n",
       "      <td>0</td>\n",
       "    </tr>\n",
       "    <tr>\n",
       "      <th>102429</th>\n",
       "      <td>102429</td>\n",
       "      <td>1</td>\n",
       "      <td>other</td>\n",
       "      <td>When a private school in Thiruvananthapuram su...</td>\n",
       "      <td>0</td>\n",
       "    </tr>\n",
       "    <tr>\n",
       "      <th>102430</th>\n",
       "      <td>102430</td>\n",
       "      <td>1</td>\n",
       "      <td>other</td>\n",
       "      <td>The Centre dismissed the Devraj Urs ministry a...</td>\n",
       "      <td>0</td>\n",
       "    </tr>\n",
       "    <tr>\n",
       "      <th>102431</th>\n",
       "      <td>102431</td>\n",
       "      <td>1</td>\n",
       "      <td>other</td>\n",
       "      <td>Shiv Sena MP Arvind Sawant has demanded a judi...</td>\n",
       "      <td>0</td>\n",
       "    </tr>\n",
       "    <tr>\n",
       "      <th>102432</th>\n",
       "      <td>102432</td>\n",
       "      <td>1</td>\n",
       "      <td>other</td>\n",
       "      <td>A year of elections begins today. Meghalaya, T...</td>\n",
       "      <td>0</td>\n",
       "    </tr>\n",
       "    <tr>\n",
       "      <th>102433</th>\n",
       "      <td>102433</td>\n",
       "      <td>1</td>\n",
       "      <td>other</td>\n",
       "      <td>As 2017 makes way for 2018, The Indian Express...</td>\n",
       "      <td>0</td>\n",
       "    </tr>\n",
       "    <tr>\n",
       "      <th>102434</th>\n",
       "      <td>102434</td>\n",
       "      <td>1</td>\n",
       "      <td>other</td>\n",
       "      <td>Niharika.AlvaBengaluru: Barely 48 hours after ...</td>\n",
       "      <td>0</td>\n",
       "    </tr>\n",
       "    <tr>\n",
       "      <th>102435</th>\n",
       "      <td>102435</td>\n",
       "      <td>1</td>\n",
       "      <td>other</td>\n",
       "      <td>MUMBAI: More than 100 BMC officers and enginee...</td>\n",
       "      <td>0</td>\n",
       "    </tr>\n",
       "    <tr>\n",
       "      <th>102436</th>\n",
       "      <td>102436</td>\n",
       "      <td>1</td>\n",
       "      <td>other</td>\n",
       "      <td>JAIPUR: Dense fog at New Delhi airport cripple...</td>\n",
       "      <td>0</td>\n",
       "    </tr>\n",
       "    <tr>\n",
       "      <th>102437</th>\n",
       "      <td>102437</td>\n",
       "      <td>1</td>\n",
       "      <td>other</td>\n",
       "      <td>Rudrapur: Foresters and special operations gro...</td>\n",
       "      <td>0</td>\n",
       "    </tr>\n",
       "    <tr>\n",
       "      <th>102438</th>\n",
       "      <td>102438</td>\n",
       "      <td>1</td>\n",
       "      <td>other</td>\n",
       "      <td>NEW DELHI: The Palestine Authority has decided...</td>\n",
       "      <td>0</td>\n",
       "    </tr>\n",
       "    <tr>\n",
       "      <th>102439</th>\n",
       "      <td>102439</td>\n",
       "      <td>1</td>\n",
       "      <td>other</td>\n",
       "      <td>Attitude, approach and rectitude of a Chief Ju...</td>\n",
       "      <td>0</td>\n",
       "    </tr>\n",
       "    <tr>\n",
       "      <th>102440</th>\n",
       "      <td>102440</td>\n",
       "      <td>1</td>\n",
       "      <td>other</td>\n",
       "      <td>CHENNAI: More than 22 years after he gave a ca...</td>\n",
       "      <td>0</td>\n",
       "    </tr>\n",
       "    <tr>\n",
       "      <th>102441</th>\n",
       "      <td>102441</td>\n",
       "      <td>1</td>\n",
       "      <td>other</td>\n",
       "      <td>New Delhi: A 38-year-old realtor allegedly kil...</td>\n",
       "      <td>0</td>\n",
       "    </tr>\n",
       "  </tbody>\n",
       "</table>\n",
       "<p>102442 rows × 5 columns</p>\n",
       "</div>"
      ],
      "text/plain": [
       "        Unnamed: 0  Category_id Category  \\\n",
       "0                0            0   unrest   \n",
       "1                1            0   unrest   \n",
       "2                2            0   unrest   \n",
       "3                3            0   unrest   \n",
       "4                4            0   unrest   \n",
       "5                5            0   unrest   \n",
       "6                6            0   unrest   \n",
       "7                7            0   unrest   \n",
       "8                8            0   unrest   \n",
       "9                9            0   unrest   \n",
       "10              10            0   unrest   \n",
       "11              11            0   unrest   \n",
       "12              12            0   unrest   \n",
       "13              13            0   unrest   \n",
       "14              14            0   unrest   \n",
       "15              15            0   unrest   \n",
       "16              16            0   unrest   \n",
       "17              17            0   unrest   \n",
       "18              18            0   unrest   \n",
       "19              19            0   unrest   \n",
       "20              20            0   unrest   \n",
       "21              21            0   unrest   \n",
       "22              22            0   unrest   \n",
       "23              23            0   unrest   \n",
       "24              24            0   unrest   \n",
       "25              25            0   unrest   \n",
       "26              26            0   unrest   \n",
       "27              27            0   unrest   \n",
       "28              28            0   unrest   \n",
       "29              29            0   unrest   \n",
       "...            ...          ...      ...   \n",
       "102412      102412            1    other   \n",
       "102413      102413            1    other   \n",
       "102414      102414            1    other   \n",
       "102415      102415            1    other   \n",
       "102416      102416            1    other   \n",
       "102417      102417            1    other   \n",
       "102418      102418            1    other   \n",
       "102419      102419            1    other   \n",
       "102420      102420            1    other   \n",
       "102421      102421            1    other   \n",
       "102422      102422            1    other   \n",
       "102423      102423            1    other   \n",
       "102424      102424            1    other   \n",
       "102425      102425            1    other   \n",
       "102426      102426            1    other   \n",
       "102427      102427            1    other   \n",
       "102428      102428            1    other   \n",
       "102429      102429            1    other   \n",
       "102430      102430            1    other   \n",
       "102431      102431            1    other   \n",
       "102432      102432            1    other   \n",
       "102433      102433            1    other   \n",
       "102434      102434            1    other   \n",
       "102435      102435            1    other   \n",
       "102436      102436            1    other   \n",
       "102437      102437            1    other   \n",
       "102438      102438            1    other   \n",
       "102439      102439            1    other   \n",
       "102440      102440            1    other   \n",
       "102441      102441            1    other   \n",
       "\n",
       "                                                  Content  Categorical_id  \n",
       "0       Bringing to an end the musical chairs game for...               1  \n",
       "1       MUMBAI: Request for a seat share landed a yout...               1  \n",
       "2       The CIA staff of the Mohali police on Saturday...               1  \n",
       "3       THE PREDICTION of snowfall on New Years Eve dr...               1  \n",
       "4       This was the year when old certainties crumble...               1  \n",
       "5       MUMBAI: The Enforcement Directorate (ED) is in...               1  \n",
       "6       VISAKHAPATNAM: Visakha Institute of Medical Sc...               1  \n",
       "7       The Samajwadi Party (SP) office and Chief Mini...               1  \n",
       "8       PATNA: The state police are making all possibl...               1  \n",
       "9       MADURAI: While many All India Anna Dravida Mun...               1  \n",
       "10      Making the latest move in the ongoing Samajwad...               1  \n",
       "11      After continuous electoral debacles in over tw...               1  \n",
       "12      Newly appointed Army Chief General Bipin Rawat...               1  \n",
       "13      New Army Chief General Bipin Rawat Sunday said...               1  \n",
       "14      India and Pakistan on Sunday exchanged for the...               1  \n",
       "15      The National Security Guard website was hacked...               1  \n",
       "16      CHENNAI: DMK treasurer M K Stalin on Friday de...               1  \n",
       "17      Pakistani troops violated the ceasefire this m...               1  \n",
       "18      The crisis within the Samajwadi Party refused ...               1  \n",
       "19      Maharashtra Police will start Bharosa Cell in ...               1  \n",
       "20      Renewing its demand, India on Sunday asked Pak...               1  \n",
       "21      Pakistan on Sunday said Indias bid at the UN t...               1  \n",
       "22      A youth hurled a shoe at Delhi Chief Minister ...               1  \n",
       "23      The budget session of Jammu and Kashmir Assemb...               1  \n",
       "24      Mangaluru: Move to demonetize high value curre...               1  \n",
       "25      MADURAI: The Potential Linked Credit plan prep...               1  \n",
       "26      India and Pakistan will begin the new year fac...               1  \n",
       "27      MUMBAI: Home loan rates have fallen to their l...               1  \n",
       "28      In an effort to spend their vacations in uniqu...               1  \n",
       "29      The last few months have been quite eventful f...               1  \n",
       "...                                                   ...             ...  \n",
       "102412  While many political observers see Rajinikanth...               0  \n",
       "102413  UNVEILING HIS vision for 2018 in his last Mann...               0  \n",
       "102414  It was a damp year for the startup sector in t...               0  \n",
       "102415  The Directorate of Revenue Intelligence (DRI) ...               0  \n",
       "102416  Hours after news spread of a 27-year-old being...               0  \n",
       "102417  Hours before the midnight release of the first...               0  \n",
       "102418  The family of Sepoy Jagsir Singh (32) was awai...               0  \n",
       "102419  Five Central Reserve Police Force personnel we...               0  \n",
       "102420  Uttar Pradesh police on Sunday said that two w...               0  \n",
       "102421  (By Jagruti Katkar)Reacting to recent controve...               0  \n",
       "102422  An inquiry was ordered on Saturday into the ar...               0  \n",
       "102423  Kitchen Inspection\\nOn a lean working day last...               0  \n",
       "102424  In the Chinese calendar, 2018 is the Year of t...               0  \n",
       "102425  State BJP president Dilip Ghosh on Sunday brus...               0  \n",
       "102426  Failing to hire monkey catchers in the capital...               0  \n",
       "102427  Two relatives of 1 Above lounge owners Kripesh...               0  \n",
       "102428  For most part of history, light has been the o...               0  \n",
       "102429  When a private school in Thiruvananthapuram su...               0  \n",
       "102430  The Centre dismissed the Devraj Urs ministry a...               0  \n",
       "102431  Shiv Sena MP Arvind Sawant has demanded a judi...               0  \n",
       "102432  A year of elections begins today. Meghalaya, T...               0  \n",
       "102433  As 2017 makes way for 2018, The Indian Express...               0  \n",
       "102434  Niharika.AlvaBengaluru: Barely 48 hours after ...               0  \n",
       "102435  MUMBAI: More than 100 BMC officers and enginee...               0  \n",
       "102436  JAIPUR: Dense fog at New Delhi airport cripple...               0  \n",
       "102437  Rudrapur: Foresters and special operations gro...               0  \n",
       "102438  NEW DELHI: The Palestine Authority has decided...               0  \n",
       "102439  Attitude, approach and rectitude of a Chief Ju...               0  \n",
       "102440  CHENNAI: More than 22 years after he gave a ca...               0  \n",
       "102441  New Delhi: A 38-year-old realtor allegedly kil...               0  \n",
       "\n",
       "[102442 rows x 5 columns]"
      ]
     },
     "execution_count": 29,
     "metadata": {},
     "output_type": "execute_result"
    }
   ],
   "source": [
    "df"
   ]
  },
  {
   "cell_type": "code",
   "execution_count": null,
   "metadata": {
    "collapsed": true
   },
   "outputs": [],
   "source": []
  }
 ],
 "metadata": {
  "kernelspec": {
   "display_name": "Python 3",
   "language": "python",
   "name": "python3"
  },
  "language_info": {
   "codemirror_mode": {
    "name": "ipython",
    "version": 3
   },
   "file_extension": ".py",
   "mimetype": "text/x-python",
   "name": "python",
   "nbconvert_exporter": "python",
   "pygments_lexer": "ipython3",
   "version": "3.6.2"
  }
 },
 "nbformat": 4,
 "nbformat_minor": 2
}

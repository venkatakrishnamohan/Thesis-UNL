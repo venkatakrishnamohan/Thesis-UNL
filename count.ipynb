{
 "cells": [
  {
   "cell_type": "code",
   "execution_count": 1,
   "metadata": {
    "collapsed": true
   },
   "outputs": [],
   "source": [
    "import pandas as pd\n",
    "import numpy as np\n",
    "import os\n",
    "import glob\n",
    "import matplotlib.pyplot as plt"
   ]
  },
  {
   "cell_type": "code",
   "execution_count": 4,
   "metadata": {
    "collapsed": true
   },
   "outputs": [],
   "source": [
    "vocab = [\"strike\",\n",
    "\"unrest\",\n",
    "\"masses\",\n",
    "\"protest\",\n",
    "\"demonstration\",\n",
    "\"worker\",\n",
    "\"union\",\n",
    "\"company\",\n",
    "\"caste\",\n",
    "\"religious\",\n",
    "\"ethnic\",\n",
    "\"reformed\",\n",
    "\"rebellion\",\n",
    "\"defense\",\n",
    "\"violence\",\n",
    "\"war\",\n",
    "\"armed\",\n",
    "\"fight\",\n",
    "\"Right\",\n",
    "\"free\",\n",
    "\"freedom\",\n",
    "\"liberty\",\n",
    "\"justice\",\n",
    "\"Fair\",\n",
    "\"unfair\",\n",
    "\"unequal\",\n",
    "\"terror\",\n",
    "\"extreme\",\n",
    "\"Bomb\",\n",
    "\"IED\",\n",
    "\"weapon\",\n",
    "\"gun\",\n",
    "\"wmd\",\n",
    "\"threat\",\n",
    "\"suicide\",\n",
    "\"murder\",\n",
    "\"Kill\",\n",
    "\"death\",\n",
    "\"explosive\",\n",
    "\"military\",\n",
    "\"police\",\n",
    "\"elite\",\n",
    "\"government\",\n",
    "\"oppresive\",\n",
    "\"power\",\n",
    "\"regime\",\n",
    "\"fraud\",\n",
    "\"corruption\",\n",
    "\"coup\",\n",
    "\"safety\",\n",
    "\"secure\",\n",
    "\"insecure\",\n",
    "\"protect\",\n",
    "\"enemy\",\n",
    "\"resist\",\n",
    "\"hostage\",\n",
    "\"truce\",\n",
    "\"fire\",\n",
    "\"greed\",\n",
    "\"panic\",\n",
    "\"inflation\",\n",
    "\"Price\",\n",
    "\"Food\",\n",
    "\"Water\"]"
   ]
  },
  {
   "cell_type": "code",
   "execution_count": 16,
   "metadata": {
    "collapsed": true
   },
   "outputs": [],
   "source": [
    "count_dict = {}"
   ]
  },
  {
   "cell_type": "code",
   "execution_count": 17,
   "metadata": {
    "collapsed": true
   },
   "outputs": [],
   "source": [
    "for i in range(len(vocab)):\n",
    "    count_dict[vocab[i]] = 0"
   ]
  },
  {
   "cell_type": "code",
   "execution_count": 27,
   "metadata": {
    "collapsed": true
   },
   "outputs": [],
   "source": [
    "df = pd.DataFrame(columns=['word','count'])\n",
    "for f in glob.glob('/Users/venkatakrishnamohansunkara/Desktop/DM/test/count/*'):\n",
    "    df = pd.read_csv(f,header=None)\n",
    "    for index,row in df.iterrows():\n",
    "        count_dict[row[0]] += row[1]"
   ]
  },
  {
   "cell_type": "code",
   "execution_count": 29,
   "metadata": {
    "scrolled": true
   },
   "outputs": [
    {
     "data": {
      "text/plain": [
       "[('masses', 0),\n",
       " ('reformed', 0),\n",
       " ('defense', 0),\n",
       " ('armed', 0),\n",
       " ('Right', 0),\n",
       " ('Fair', 0),\n",
       " ('Bomb', 0),\n",
       " ('IED', 0),\n",
       " ('wmd', 0),\n",
       " ('Kill', 0),\n",
       " ('oppresive', 0),\n",
       " ('Price', 0),\n",
       " ('Food', 0),\n",
       " ('Water', 0),\n",
       " ('ethnic', 2),\n",
       " ('unequal', 2),\n",
       " ('elite', 2),\n",
       " ('coup', 3),\n",
       " ('insecure', 3),\n",
       " ('enemy', 3),\n",
       " ('hostage', 3),\n",
       " ('inflation', 3),\n",
       " ('liberty', 5),\n",
       " ('truce', 5),\n",
       " ('greed', 5),\n",
       " ('explosive', 6),\n",
       " ('unrest', 7),\n",
       " ('resist', 7),\n",
       " ('rebellion', 9),\n",
       " ('military', 9),\n",
       " ('unfair', 11),\n",
       " ('panic', 13),\n",
       " ('extreme', 18),\n",
       " ('fraud', 18),\n",
       " ('freedom', 19),\n",
       " ('regime', 21),\n",
       " ('demonstration', 22),\n",
       " ('gun', 23),\n",
       " ('secure', 27),\n",
       " ('weapon', 28),\n",
       " ('terror', 29),\n",
       " ('war', 31),\n",
       " ('violence', 34),\n",
       " ('corruption', 42),\n",
       " ('threat', 43),\n",
       " ('protect', 44),\n",
       " ('religious', 58),\n",
       " ('free', 72),\n",
       " ('strike', 77),\n",
       " ('safety', 84),\n",
       " ('caste', 86),\n",
       " ('fight', 108),\n",
       " ('suicide', 135),\n",
       " ('justice', 148),\n",
       " ('worker', 155),\n",
       " ('union', 168),\n",
       " ('power', 172),\n",
       " ('murder', 175),\n",
       " ('fire', 183),\n",
       " ('death', 187),\n",
       " ('protest', 199),\n",
       " ('company', 339),\n",
       " ('government', 1123),\n",
       " ('police', 1793)]"
      ]
     },
     "execution_count": 29,
     "metadata": {},
     "output_type": "execute_result"
    }
   ],
   "source": [
    "from operator import itemgetter\n",
    "sorted(count_dict.items(), key=itemgetter(1))"
   ]
  },
  {
   "cell_type": "code",
   "execution_count": null,
   "metadata": {
    "collapsed": true
   },
   "outputs": [],
   "source": []
  },
  {
   "cell_type": "code",
   "execution_count": null,
   "metadata": {
    "collapsed": true
   },
   "outputs": [],
   "source": []
  }
 ],
 "metadata": {
  "kernelspec": {
   "display_name": "Python 3",
   "language": "python",
   "name": "python3"
  },
  "language_info": {
   "codemirror_mode": {
    "name": "ipython",
    "version": 3
   },
   "file_extension": ".py",
   "mimetype": "text/x-python",
   "name": "python",
   "nbconvert_exporter": "python",
   "pygments_lexer": "ipython3",
   "version": "3.6.2"
  }
 },
 "nbformat": 4,
 "nbformat_minor": 2
}

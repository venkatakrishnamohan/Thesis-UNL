{
 "cells": [
  {
   "cell_type": "code",
   "execution_count": 1,
   "metadata": {
    "collapsed": true
   },
   "outputs": [],
   "source": [
    "import numpy as np\n",
    "import pandas as pd"
   ]
  },
  {
   "cell_type": "code",
   "execution_count": 2,
   "metadata": {
    "collapsed": true
   },
   "outputs": [],
   "source": [
    "s = np.load('sim_measures.npy')"
   ]
  },
  {
   "cell_type": "code",
   "execution_count": 3,
   "metadata": {},
   "outputs": [
    {
     "data": {
      "text/plain": [
       "array([[0.59261864, 0.5693103 , 0.2485495 , 0.50020206, 0.30258346,\n",
       "        0.46300873, 0.12725714, 0.5165088 , 0.40635082, 0.4151661 ],\n",
       "       [0.7719926 , 0.6258243 , 0.67863286, 0.57486284, 0.59821403,\n",
       "        0.48931035, 0.5482241 , 0.4564388 , 0.44038326, 0.50701493],\n",
       "       [0.6805059 , 0.5786203 , 0.54759943, 0.63749194, 0.57085466,\n",
       "        0.30481154, 0.13015082, 0.50980103, 0.62964296, 0.56258184],\n",
       "       [0.41895065, 0.6242944 , 0.4486484 , 0.36145544, 0.20249811,\n",
       "        0.31368613, 0.07673921, 0.05966496, 0.33795032, 0.37526047],\n",
       "       [0.74241817, 0.71096313, 0.5478926 , 0.60532653, 0.32888442,\n",
       "        0.47024637, 0.55326796, 0.35823786, 0.3918435 , 0.6975236 ],\n",
       "       [0.5410579 , 0.362064  , 0.52767223, 0.48682302, 0.23906252,\n",
       "        0.50257707, 0.31687993, 0.30650502, 0.35696882, 0.40609646],\n",
       "       [0.67614   , 0.56512284, 0.6728153 , 0.5008223 , 0.6715425 ,\n",
       "        0.18577859, 0.66803694, 0.51954687, 0.60715556, 0.5593482 ]],\n",
       "      dtype=float32)"
      ]
     },
     "execution_count": 3,
     "metadata": {},
     "output_type": "execute_result"
    }
   ],
   "source": [
    "s"
   ]
  },
  {
   "cell_type": "code",
   "execution_count": 12,
   "metadata": {
    "collapsed": true
   },
   "outputs": [],
   "source": [
    "s_avg = np.mean(s,axis=0)"
   ]
  },
  {
   "cell_type": "code",
   "execution_count": 15,
   "metadata": {
    "collapsed": true
   },
   "outputs": [],
   "source": [
    "import matplotlib.pyplot as plt\n",
    "%matplotlib inline"
   ]
  },
  {
   "cell_type": "code",
   "execution_count": 16,
   "metadata": {},
   "outputs": [
    {
     "data": {
      "text/plain": [
       "[<matplotlib.lines.Line2D at 0x10cc05b38>]"
      ]
     },
     "execution_count": 16,
     "metadata": {},
     "output_type": "execute_result"
    },
    {
     "data": {
      "image/png": "[encoded data removed]",
      "text/plain": [
       "<Figure size 432x288 with 1 Axes>"
      ]
     },
     "metadata": {},
     "output_type": "display_data"
    }
   ],
   "source": [
    "plt.plot(s_avg)"
   ]
  },
  {
   "cell_type": "code",
   "execution_count": null,
   "metadata": {
    "collapsed": true
   },
   "outputs": [],
   "source": []
  },
  {
   "cell_type": "code",
   "execution_count": null,
   "metadata": {
    "collapsed": true
   },
   "outputs": [],
   "source": []
  }
 ],
 "metadata": {
  "kernelspec": {
   "display_name": "Python 3",
   "language": "python",
   "name": "python3"
  },
  "language_info": {
   "codemirror_mode": {
    "name": "ipython",
    "version": 3
   },
   "file_extension": ".py",
   "mimetype": "text/x-python",
   "name": "python",
   "nbconvert_exporter": "python",
   "pygments_lexer": "ipython3",
   "version": "3.6.2"
  }
 },
 "nbformat": 4,
 "nbformat_minor": 2
}

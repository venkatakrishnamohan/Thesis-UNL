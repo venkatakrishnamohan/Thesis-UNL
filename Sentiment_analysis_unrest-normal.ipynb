{
 "cells": [
  {
   "cell_type": "code",
   "execution_count": 1,
   "metadata": {
    "collapsed": true
   },
   "outputs": [],
   "source": [
    "import numpy as np\n",
    "import pandas as pd\n",
    "import os\n",
    "import glob\n",
    "import nltk\n",
    "from vaderSentiment.vaderSentiment import SentimentIntensityAnalyzer"
   ]
  },
  {
   "cell_type": "code",
   "execution_count": 3,
   "metadata": {
    "collapsed": true
   },
   "outputs": [],
   "source": [
    "analyser = SentimentIntensityAnalyzer()"
   ]
  },
  {
   "cell_type": "code",
   "execution_count": 3,
   "metadata": {
    "collapsed": true
   },
   "outputs": [],
   "source": [
    "a = analyser.polarity_scores('The food is really GOOD!')"
   ]
  },
  {
   "cell_type": "code",
   "execution_count": 4,
   "metadata": {},
   "outputs": [
    {
     "data": {
      "text/plain": [
       "{'compound': 0.6391, 'neg': 0.0, 'neu': 0.487, 'pos': 0.513}"
      ]
     },
     "execution_count": 4,
     "metadata": {},
     "output_type": "execute_result"
    }
   ],
   "source": [
    "a"
   ]
  },
  {
   "cell_type": "code",
   "execution_count": 9,
   "metadata": {
    "collapsed": true
   },
   "outputs": [],
   "source": [
    "b = {'neg':a['neg'],'pos':a['pos'],'neu':a['neu']}"
   ]
  },
  {
   "cell_type": "code",
   "execution_count": 10,
   "metadata": {
    "collapsed": true
   },
   "outputs": [],
   "source": [
    "import operator"
   ]
  },
  {
   "cell_type": "code",
   "execution_count": 24,
   "metadata": {
    "collapsed": true
   },
   "outputs": [],
   "source": [
    "count=0\n",
    "pos =0\n",
    "neg=0\n",
    "neu=0\n",
    "for f in glob.glob('/Users/venkatakrishnamohansunkara/Desktop/DM/test/other/*'):\n",
    "    data = \"\"\n",
    "    with open(f,'r') as myfile:\n",
    "        data = myfile.readlines()[3:]\n",
    "        data = ''.join(data)\n",
    "        ans = analyser.polarity_scores(data)\n",
    "        positive = ans['pos']\n",
    "        negative = ans['neg']\n",
    "        neutral = ans['neu']\n",
    "        sentiments = {'neg':a['neg'],'pos':a['pos'],'neu':a['neu']}\n",
    "        max_sentiment = max(sentiments.items(), key=operator.itemgetter(1))[0]\n",
    "        if(max_sentiment == 'neu'):\n",
    "            neu+=1\n",
    "        elif(max_sentiment == 'pos'):\n",
    "            pos+=1\n",
    "        else:\n",
    "            neg+=1\n",
    "        count+=1"
   ]
  },
  {
   "cell_type": "code",
   "execution_count": 27,
   "metadata": {},
   "outputs": [
    {
     "data": {
      "text/plain": [
       "0"
      ]
     },
     "execution_count": 27,
     "metadata": {},
     "output_type": "execute_result"
    }
   ],
   "source": [
    "neg"
   ]
  },
  {
   "cell_type": "code",
   "execution_count": 4,
   "metadata": {
    "collapsed": true
   },
   "outputs": [],
   "source": [
    "import textblob\n",
    "from textblob import TextBlob"
   ]
  },
  {
   "cell_type": "code",
   "execution_count": 5,
   "metadata": {
    "collapsed": true
   },
   "outputs": [],
   "source": [
    "df = pd.read_csv('other_articles/other_all.csv')"
   ]
  },
  {
   "cell_type": "code",
   "execution_count": 14,
   "metadata": {
    "collapsed": true
   },
   "outputs": [],
   "source": [
    "df['sentiment_pos'] = ''"
   ]
  },
  {
   "cell_type": "code",
   "execution_count": 16,
   "metadata": {},
   "outputs": [],
   "source": [
    "tblob_pos = 0\n",
    "tblob_neg = 0\n",
    "vader_pos = 0\n",
    "vader_neg = 0\n",
    "count = 0\n",
    "for i,row in df.iterrows():\n",
    "    count+=1\n",
    "    ans = analyser.polarity_scores(str(row['content']))\n",
    "    df.set_value(i,'sentiment_compound',ans['compound'])\n",
    "    df.set_value(i,'sentiment_neg',ans['neg'])\n",
    "    df.set_value(i,'sentiment_neu',ans['neu'])\n",
    "    df.set_value(i,'sentiment_pos',ans['pos'])\n",
    "    if row['sentiment_textblob'] > 0:\n",
    "        tblob_pos+=1\n",
    "    else:\n",
    "        tblob_neg+=1\n",
    "    if ans['compound'] >= 0.05:\n",
    "        vader_pos+=1\n",
    "    elif ans['compound'] <= -0.05:\n",
    "        vader_neg+=1"
   ]
  },
  {
   "cell_type": "code",
   "execution_count": 17,
   "metadata": {},
   "outputs": [
    {
     "data": {
      "text/html": [
       "<div>\n",
       "<style>\n",
       "    .dataframe thead tr:only-child th {\n",
       "        text-align: right;\n",
       "    }\n",
       "\n",
       "    .dataframe thead th {\n",
       "        text-align: left;\n",
       "    }\n",
       "\n",
       "    .dataframe tbody tr th {\n",
       "        vertical-align: top;\n",
       "    }\n",
       "</style>\n",
       "<table border=\"1\" class=\"dataframe\">\n",
       "  <thead>\n",
       "    <tr style=\"text-align: right;\">\n",
       "      <th></th>\n",
       "      <th>Unnamed: 0</th>\n",
       "      <th>category</th>\n",
       "      <th>content</th>\n",
       "      <th>country</th>\n",
       "      <th>date</th>\n",
       "      <th>title</th>\n",
       "      <th>url</th>\n",
       "      <th>sentiment_textblob</th>\n",
       "      <th>sentiment_compound</th>\n",
       "      <th>sentiment_neg</th>\n",
       "      <th>sentiment_neu</th>\n",
       "      <th>sentiment_pos</th>\n",
       "    </tr>\n",
       "  </thead>\n",
       "  <tbody>\n",
       "    <tr>\n",
       "      <th>0</th>\n",
       "      <td>0</td>\n",
       "      <td>travel</td>\n",
       "      <td>A year ago, Chris Forsyth started the Montréal...</td>\n",
       "      <td>GB</td>\n",
       "      <td>2015-08-31T20:00:00.000+03:00</td>\n",
       "      <td>No title</td>\n",
       "      <td>http://www.theguardian.com/cities/2015/aug/31/...</td>\n",
       "      <td>0.338889</td>\n",
       "      <td>0.926</td>\n",
       "      <td>0.009</td>\n",
       "      <td>0.885</td>\n",
       "      <td>0.106</td>\n",
       "    </tr>\n",
       "    <tr>\n",
       "      <th>1</th>\n",
       "      <td>1</td>\n",
       "      <td>travel</td>\n",
       "      <td>Where can you unleash hundreds of horsepower y...</td>\n",
       "      <td>US</td>\n",
       "      <td>2015-08-28T20:02:00.000+03:00</td>\n",
       "      <td>No title</td>\n",
       "      <td>http://www.telegraph.co.uk/sponsored/motoring/...</td>\n",
       "      <td>0.280401</td>\n",
       "      <td>0.994</td>\n",
       "      <td>0.048</td>\n",
       "      <td>0.829</td>\n",
       "      <td>0.123</td>\n",
       "    </tr>\n",
       "    <tr>\n",
       "      <th>2</th>\n",
       "      <td>2</td>\n",
       "      <td>travel</td>\n",
       "      <td>Travelstart.com CEO Stephan Ekbergh to present...</td>\n",
       "      <td>US</td>\n",
       "      <td>2015-08-26T03:00:00.000+03:00</td>\n",
       "      <td>No title</td>\n",
       "      <td>http://www.travelandtourworld.com/news/article...</td>\n",
       "      <td>0.148529</td>\n",
       "      <td>0.9764</td>\n",
       "      <td>0.005</td>\n",
       "      <td>0.893</td>\n",
       "      <td>0.102</td>\n",
       "    </tr>\n",
       "    <tr>\n",
       "      <th>3</th>\n",
       "      <td>3</td>\n",
       "      <td>travel</td>\n",
       "      <td>First look inside Vietnam Airlines' new B787-9...</td>\n",
       "      <td>US</td>\n",
       "      <td>2015-08-18T13:00:00.000+03:00</td>\n",
       "      <td>No title</td>\n",
       "      <td>http://www.incentivetravel.co.uk/news/airporta...</td>\n",
       "      <td>0.228671</td>\n",
       "      <td>0.9864</td>\n",
       "      <td>0.007</td>\n",
       "      <td>0.915</td>\n",
       "      <td>0.078</td>\n",
       "    </tr>\n",
       "    <tr>\n",
       "      <th>4</th>\n",
       "      <td>4</td>\n",
       "      <td>travel</td>\n",
       "      <td>I write this from a gloriously sunny, glorious...</td>\n",
       "      <td>US</td>\n",
       "      <td>2015-08-20T22:57:00.000+03:00</td>\n",
       "      <td>No title</td>\n",
       "      <td>http://www.telegraph.co.uk/travel/11814553/A-p...</td>\n",
       "      <td>-0.014627</td>\n",
       "      <td>0.9695</td>\n",
       "      <td>0.079</td>\n",
       "      <td>0.787</td>\n",
       "      <td>0.135</td>\n",
       "    </tr>\n",
       "  </tbody>\n",
       "</table>\n",
       "</div>"
      ],
      "text/plain": [
       "   Unnamed: 0 category                                            content  \\\n",
       "0           0   travel  A year ago, Chris Forsyth started the Montréal...   \n",
       "1           1   travel  Where can you unleash hundreds of horsepower y...   \n",
       "2           2   travel  Travelstart.com CEO Stephan Ekbergh to present...   \n",
       "3           3   travel  First look inside Vietnam Airlines' new B787-9...   \n",
       "4           4   travel  I write this from a gloriously sunny, glorious...   \n",
       "\n",
       "  country                           date     title  \\\n",
       "0      GB  2015-08-31T20:00:00.000+03:00  No title   \n",
       "1      US  2015-08-28T20:02:00.000+03:00  No title   \n",
       "2      US  2015-08-26T03:00:00.000+03:00  No title   \n",
       "3      US  2015-08-18T13:00:00.000+03:00  No title   \n",
       "4      US  2015-08-20T22:57:00.000+03:00  No title   \n",
       "\n",
       "                                                 url sentiment_textblob  \\\n",
       "0  http://www.theguardian.com/cities/2015/aug/31/...           0.338889   \n",
       "1  http://www.telegraph.co.uk/sponsored/motoring/...           0.280401   \n",
       "2  http://www.travelandtourworld.com/news/article...           0.148529   \n",
       "3  http://www.incentivetravel.co.uk/news/airporta...           0.228671   \n",
       "4  http://www.telegraph.co.uk/travel/11814553/A-p...          -0.014627   \n",
       "\n",
       "  sentiment_compound sentiment_neg sentiment_neu sentiment_pos  \n",
       "0              0.926         0.009         0.885         0.106  \n",
       "1              0.994         0.048         0.829         0.123  \n",
       "2             0.9764         0.005         0.893         0.102  \n",
       "3             0.9864         0.007         0.915         0.078  \n",
       "4             0.9695         0.079         0.787         0.135  "
      ]
     },
     "execution_count": 17,
     "metadata": {},
     "output_type": "execute_result"
    }
   ],
   "source": [
    "df.head()"
   ]
  },
  {
   "cell_type": "code",
   "execution_count": 24,
   "metadata": {
    "collapsed": true
   },
   "outputs": [],
   "source": [
    "df.drop(['Unnamed: 0','Unnamed: 0.1'],axis=1,inplace=True)"
   ]
  },
  {
   "cell_type": "code",
   "execution_count": 18,
   "metadata": {
    "collapsed": true
   },
   "outputs": [],
   "source": [
    "df.to_csv('sentiment_analysis_other.csv')"
   ]
  },
  {
   "cell_type": "code",
   "execution_count": 19,
   "metadata": {},
   "outputs": [
    {
     "data": {
      "text/plain": [
       "360771"
      ]
     },
     "execution_count": 19,
     "metadata": {},
     "output_type": "execute_result"
    }
   ],
   "source": [
    "count"
   ]
  },
  {
   "cell_type": "code",
   "execution_count": 21,
   "metadata": {},
   "outputs": [
    {
     "data": {
      "text/plain": [
       "70987"
      ]
     },
     "execution_count": 21,
     "metadata": {},
     "output_type": "execute_result"
    }
   ],
   "source": [
    "vader_neg"
   ]
  },
  {
   "cell_type": "code",
   "execution_count": 23,
   "metadata": {},
   "outputs": [
    {
     "data": {
      "text/plain": [
       "72185"
      ]
     },
     "execution_count": 23,
     "metadata": {},
     "output_type": "execute_result"
    }
   ],
   "source": [
    "tblob_neg"
   ]
  },
  {
   "cell_type": "code",
   "execution_count": null,
   "metadata": {
    "collapsed": true
   },
   "outputs": [],
   "source": []
  }
 ],
 "metadata": {
  "kernelspec": {
   "display_name": "Python 3",
   "language": "python",
   "name": "python3"
  },
  "language_info": {
   "codemirror_mode": {
    "name": "ipython",
    "version": 3
   },
   "file_extension": ".py",
   "mimetype": "text/x-python",
   "name": "python",
   "nbconvert_exporter": "python",
   "pygments_lexer": "ipython3",
   "version": "3.6.2"
  }
 },
 "nbformat": 4,
 "nbformat_minor": 2
}

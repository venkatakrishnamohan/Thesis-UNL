{
 "cells": [
  {
   "cell_type": "code",
   "execution_count": 1,
   "metadata": {
    "collapsed": true
   },
   "outputs": [],
   "source": [
    "import numpy as np"
   ]
  },
  {
   "cell_type": "code",
   "execution_count": 2,
   "metadata": {
    "collapsed": true
   },
   "outputs": [],
   "source": [
    "from flair.data import Sentence\n",
    "from flair.models import SequenceTagger"
   ]
  },
  {
   "cell_type": "code",
   "execution_count": 3,
   "metadata": {
    "collapsed": true,
    "scrolled": true
   },
   "outputs": [],
   "source": [
    "tagger_ner = SequenceTagger.load('ner')"
   ]
  },
  {
   "cell_type": "code",
   "execution_count": 4,
   "metadata": {
    "collapsed": true
   },
   "outputs": [],
   "source": [
    "tagger_pos = SequenceTagger.load('pos')"
   ]
  },
  {
   "cell_type": "code",
   "execution_count": 5,
   "metadata": {
    "collapsed": true
   },
   "outputs": [],
   "source": [
    "sentence = Sentence('George Washington went to Washington .')"
   ]
  },
  {
   "cell_type": "code",
   "execution_count": 6,
   "metadata": {},
   "outputs": [
    {
     "data": {
      "text/plain": [
       "[Sentence: \"George Washington went to Washington .\" - 6 Tokens]"
      ]
     },
     "execution_count": 6,
     "metadata": {},
     "output_type": "execute_result"
    }
   ],
   "source": [
    "tagger_ner.predict(sentence)"
   ]
  },
  {
   "cell_type": "code",
   "execution_count": 7,
   "metadata": {},
   "outputs": [
    {
     "data": {
      "text/plain": [
       "[Sentence: \"George Washington went to Washington .\" - 6 Tokens]"
      ]
     },
     "execution_count": 7,
     "metadata": {},
     "output_type": "execute_result"
    }
   ],
   "source": [
    "tagger_pos.predict(sentence)"
   ]
  },
  {
   "cell_type": "code",
   "execution_count": 8,
   "metadata": {},
   "outputs": [
    {
     "name": "stdout",
     "output_type": "stream",
     "text": [
      "George <B-PER/NNP> Washington <E-PER/NNP> went <VBD> to <IN> Washington <S-LOC/NNP> . <.>\n"
     ]
    }
   ],
   "source": [
    "print(sentence.to_tagged_string())"
   ]
  },
  {
   "cell_type": "code",
   "execution_count": 9,
   "metadata": {
    "collapsed": true
   },
   "outputs": [],
   "source": [
    "from flair.embeddings import CharLMEmbeddings"
   ]
  },
  {
   "cell_type": "code",
   "execution_count": 10,
   "metadata": {
    "collapsed": true
   },
   "outputs": [],
   "source": [
    "charlm_embedding_forward = CharLMEmbeddings('news-forward')"
   ]
  },
  {
   "cell_type": "code",
   "execution_count": 11,
   "metadata": {
    "collapsed": true
   },
   "outputs": [],
   "source": [
    "sentence1 = \"A protest occurred in Nebraska between two groups.\"\n",
    "sentence2 = \"An incident involving 2 groups from Lincoln is reported.\""
   ]
  },
  {
   "cell_type": "code",
   "execution_count": 12,
   "metadata": {
    "collapsed": true
   },
   "outputs": [],
   "source": [
    "sentence1 = Sentence(sentence1)\n",
    "sentence2 = Sentence(sentence2)\n",
    "s1e = charlm_embedding_forward.embed(sentence1)\n",
    "s2e = charlm_embedding_forward.embed(sentence2)"
   ]
  },
  {
   "cell_type": "code",
   "execution_count": 13,
   "metadata": {
    "collapsed": true
   },
   "outputs": [],
   "source": [
    "#from sklearn.metrics.pairwise import cosine_similarity"
   ]
  },
  {
   "cell_type": "code",
   "execution_count": 14,
   "metadata": {
    "collapsed": true
   },
   "outputs": [],
   "source": [
    "e1a = []\n",
    "for t in sentence1.tokens:\n",
    "    e1 = np.asarray(t.embedding)\n",
    "    e1a.append(e1)\n",
    "e1a = np.asarray(e1a).sum(axis=0)\n",
    "e2a = []\n",
    "for t in sentence2.tokens:\n",
    "    e2 = np.asarray(t.embedding)\n",
    "    e2a.append(e2)\n",
    "e2a = np.asarray(e2a).sum(axis=0)"
   ]
  },
  {
   "cell_type": "code",
   "execution_count": 25,
   "metadata": {
    "collapsed": true
   },
   "outputs": [],
   "source": [
    "#e1 = np.asarray(sentence1.tokens[0].embedding)\n",
    "#e2 = (np.asarray(sentence2.tokens[0].embedding) + np.asarray(sentence2.tokens[1].embedding)) /2.0"
   ]
  },
  {
   "cell_type": "code",
   "execution_count": 15,
   "metadata": {
    "collapsed": true
   },
   "outputs": [],
   "source": [
    "from numpy import dot\n",
    "from numpy.linalg import norm\n",
    "\n",
    "cos_sim = dot(e1a, e2a)/(norm(e1a)*norm(e2a))"
   ]
  },
  {
   "cell_type": "code",
   "execution_count": 16,
   "metadata": {},
   "outputs": [
    {
     "data": {
      "text/plain": [
       "0.7170097"
      ]
     },
     "execution_count": 16,
     "metadata": {},
     "output_type": "execute_result"
    }
   ],
   "source": [
    "cos_sim"
   ]
  },
  {
   "cell_type": "code",
   "execution_count": 51,
   "metadata": {
    "collapsed": true
   },
   "outputs": [],
   "source": [
    "###"
   ]
  },
  {
   "cell_type": "code",
   "execution_count": 5,
   "metadata": {
    "collapsed": true
   },
   "outputs": [],
   "source": [
    "import numpy as np\n",
    "import pandas as pd\n",
    "import re\n",
    "import nltk\n",
    "from mediawiki import MediaWiki\n",
    "from bs4 import BeautifulSoup\n",
    "import string\n",
    "from nltk import tokenize\n",
    "from nltk.tag import StanfordNERTagger\n",
    "import string\n",
    "from nltk.tokenize import word_tokenize\n",
    "import unicodedata\n",
    "import timeit"
   ]
  },
  {
   "cell_type": "code",
   "execution_count": 6,
   "metadata": {
    "collapsed": true
   },
   "outputs": [],
   "source": [
    "df = pd.read_csv('../GDELT_2017/unrest_gdelt_2017_all.csv')"
   ]
  },
  {
   "cell_type": "code",
   "execution_count": 7,
   "metadata": {
    "collapsed": true
   },
   "outputs": [],
   "source": [
    "df = df.sample(n=100)"
   ]
  },
  {
   "cell_type": "code",
   "execution_count": null,
   "metadata": {
    "collapsed": true
   },
   "outputs": [],
   "source": []
  },
  {
   "cell_type": "code",
   "execution_count": 8,
   "metadata": {
    "collapsed": true
   },
   "outputs": [],
   "source": [
    "# Function for removing unnecessary characters.\n",
    "def clean_str(string):\n",
    "    \"\"\"\n",
    "    Tokenization/string cleaning for dataset\n",
    "    Every dataset is lower cased except\n",
    "    \"\"\"\n",
    "    string = re.sub(r\"\\\\\", \" \", string)\n",
    "    string = re.sub(r\"\\'\", \" \", string)\n",
    "    string = re.sub(r\"\\\"\", \" \", string)\n",
    "    string = re.sub(r\"\\n\", \" \", string)\n",
    "    string = re.sub(r\"=\", \" \", string)\n",
    "    string = re.sub(r\"-\", \" \", string)\n",
    "    string = re.sub(r\"/\", \" \", string)\n",
    "    string = re.sub(r\"the\",\"\",string)\n",
    "    string = re.sub(r\",\",\"\",string)\n",
    "    return string.strip()"
   ]
  },
  {
   "cell_type": "code",
   "execution_count": 9,
   "metadata": {
    "scrolled": true
   },
   "outputs": [
    {
     "name": "stdout",
     "output_type": "stream",
     "text": [
      "24864\n",
      "13533\n",
      "26001\n",
      "43594\n",
      "5220\n",
      "14955\n",
      "27045\n",
      "40966\n",
      "42713\n",
      "440\n",
      "31385\n",
      "19558\n",
      "23775\n",
      "49612\n",
      "137\n",
      "956\n",
      "31630\n",
      "42001\n",
      "50905\n",
      "19144\n",
      "26260\n",
      "21212\n",
      "26376\n",
      "40418\n",
      "45441\n",
      "34348\n",
      "3429\n",
      "11724\n",
      "36281\n",
      "3111\n",
      "22056\n",
      "4359\n",
      "28063\n",
      "20008\n",
      "19894\n",
      "41438\n",
      "35156\n",
      "14309\n",
      "46849\n",
      "41201\n",
      "13409\n",
      "19785\n",
      "33774\n",
      "44064\n",
      "24163\n",
      "24214\n",
      "6186\n",
      "25644\n",
      "9393\n",
      "10339\n",
      "44951\n",
      "30720\n",
      "48645\n",
      "2783\n",
      "9872\n",
      "9875\n",
      "17773\n",
      "31600\n",
      "13512\n",
      "16074\n",
      "42579\n",
      "46546\n",
      "5412\n",
      "32776\n",
      "44930\n",
      "27075\n",
      "20091\n",
      "740\n",
      "923\n",
      "50781\n",
      "31540\n",
      "50043\n",
      "19282\n",
      "1406\n",
      "24573\n",
      "12099\n",
      "4\n",
      "40304\n",
      "21617\n",
      "2021\n",
      "32088\n",
      "15793\n",
      "48398\n",
      "833\n",
      "3153\n",
      "30714\n",
      "9092\n",
      "27328\n",
      "38292\n",
      "25522\n",
      "238\n",
      "32448\n",
      "49696\n",
      "41304\n",
      "9473\n",
      "30928\n",
      "17812\n",
      "36427\n",
      "19909\n",
      "49703\n"
     ]
    }
   ],
   "source": [
    "counts = {}\n",
    "all_counts = {}\n",
    "for i,row in df.iterrows():\n",
    "    print(i)\n",
    "    test_data = row['content']\n",
    "    test_data = unicodedata.normalize(\"NFKD\", test_data)\n",
    "    test_data = clean_str(test_data)\n",
    "    text_sent = nltk.sent_tokenize(test_data)\n",
    "    for sent in text_sent:\n",
    "        #text_tags = nltk.word_tokenize(sent)\n",
    "        sentence = Sentence(sent);\n",
    "        tagger_ner.predict(sentence)\n",
    "        #original_tags = st.tag(text_tags)\n",
    "        #text_tagged = nltk.pos_tag(text_tags)\n",
    "        tagger_pos.predict(sentence)\n",
    "        for s in sentence.get_spans('pos'):\n",
    "            s = str(s).split(\" \");\n",
    "            if \"IN\" in s[0]:\n",
    "                e = s[2].strip('\"');\n",
    "                if e.lower() in all_counts:\n",
    "                    all_counts[e.lower()] = all_counts[e.lower()]+1\n",
    "                else:\n",
    "                    all_counts[e.lower()] = 1\n",
    "        for s in sentence.get_spans('ner'):\n",
    "            s = str(s).split(\" \");\n",
    "            if \"LOC\" in s[0]:\n",
    "                if int(s[1][1]) >0:\n",
    "                    e = str(sentence.tokens[int(s[1][1])-2]).split(\" \")[2]\n",
    "                    if e.lower() in counts:\n",
    "                        counts[e.lower()] = counts[e.lower()]+1\n",
    "                    else:\n",
    "                        counts[e.lower()] = 1"
   ]
  },
  {
   "cell_type": "code",
   "execution_count": 12,
   "metadata": {
    "collapsed": true
   },
   "outputs": [],
   "source": [
    "final_probs = {};\n",
    "for c in all_counts.keys():\n",
    "    if c in counts.keys():\n",
    "        final_probs[c] = counts[c]/all_counts[c]"
   ]
  },
  {
   "cell_type": "code",
   "execution_count": 14,
   "metadata": {
    "collapsed": true
   },
   "outputs": [],
   "source": [
    "sorted_fp = sorted(final_probs.items(), key=lambda kv: kv[1])"
   ]
  },
  {
   "cell_type": "code",
   "execution_count": 15,
   "metadata": {
    "collapsed": true
   },
   "outputs": [],
   "source": [
    "x_val = [x[0] for x in sorted_fp]\n",
    "y_val = [x[1] for x in sorted_fp]"
   ]
  },
  {
   "cell_type": "code",
   "execution_count": 18,
   "metadata": {},
   "outputs": [
    {
     "data": {
      "image/png": "[encoded data removed]",
      "text/plain": [
       "<Figure size 432x288 with 1 Axes>"
      ]
     },
     "metadata": {},
     "output_type": "display_data"
    }
   ],
   "source": [
    "import seaborn as sns\n",
    "%matplotlib inline\n",
    "sns_plot = sns.barplot(y_val,x_val)"
   ]
  },
  {
   "cell_type": "code",
   "execution_count": null,
   "metadata": {
    "collapsed": true
   },
   "outputs": [],
   "source": []
  }
 ],
 "metadata": {
  "kernelspec": {
   "display_name": "Python 3",
   "language": "python",
   "name": "python3"
  },
  "language_info": {
   "codemirror_mode": {
    "name": "ipython",
    "version": 3
   },
   "file_extension": ".py",
   "mimetype": "text/x-python",
   "name": "python",
   "nbconvert_exporter": "python",
   "pygments_lexer": "ipython3",
   "version": "3.6.8"
  }
 },
 "nbformat": 4,
 "nbformat_minor": 2
}

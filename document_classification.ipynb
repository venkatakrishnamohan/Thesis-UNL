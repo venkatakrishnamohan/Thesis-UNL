{
 "cells": [
  {
   "cell_type": "code",
   "execution_count": 1,
   "metadata": {
    "collapsed": true
   },
   "outputs": [],
   "source": [
    "import pandas as pd\n",
    "import numpy as np\n",
    "import os\n",
    "import matplotlib.pyplot as plt\n",
    "%matplotlib inline\n",
    "from io import StringIO"
   ]
  },
  {
   "cell_type": "code",
   "execution_count": 2,
   "metadata": {
    "collapsed": true
   },
   "outputs": [],
   "source": [
    "df_unrest = pd.read_csv('GDELT_2017/unrest_gdelt_2017_sentiment.csv')"
   ]
  },
  {
   "cell_type": "code",
   "execution_count": 3,
   "metadata": {
    "collapsed": true
   },
   "outputs": [],
   "source": [
    "df_other_all = pd.read_csv('other_articles/sub_other.csv')"
   ]
  },
  {
   "cell_type": "code",
   "execution_count": 4,
   "metadata": {
    "collapsed": true
   },
   "outputs": [],
   "source": [
    "df_other = df_other_all"
   ]
  },
  {
   "cell_type": "code",
   "execution_count": 11,
   "metadata": {},
   "outputs": [
    {
     "data": {
      "text/plain": [
       "(51221, 18)"
      ]
     },
     "execution_count": 11,
     "metadata": {},
     "output_type": "execute_result"
    }
   ],
   "source": [
    "df_unrest.shape"
   ]
  },
  {
   "cell_type": "code",
   "execution_count": 12,
   "metadata": {},
   "outputs": [
    {
     "data": {
      "text/html": [
       "<div>\n",
       "<style>\n",
       "    .dataframe thead tr:only-child th {\n",
       "        text-align: right;\n",
       "    }\n",
       "\n",
       "    .dataframe thead th {\n",
       "        text-align: left;\n",
       "    }\n",
       "\n",
       "    .dataframe tbody tr th {\n",
       "        vertical-align: top;\n",
       "    }\n",
       "</style>\n",
       "<table border=\"1\" class=\"dataframe\">\n",
       "  <thead>\n",
       "    <tr style=\"text-align: right;\">\n",
       "      <th></th>\n",
       "      <th>Unnamed: 0</th>\n",
       "      <th>Unnamed: 0.1</th>\n",
       "      <th>category</th>\n",
       "      <th>content</th>\n",
       "      <th>country</th>\n",
       "      <th>date</th>\n",
       "      <th>title</th>\n",
       "      <th>url</th>\n",
       "    </tr>\n",
       "  </thead>\n",
       "  <tbody>\n",
       "    <tr>\n",
       "      <th>4</th>\n",
       "      <td>110525</td>\n",
       "      <td>10773</td>\n",
       "      <td>technology</td>\n",
       "      <td>The Mpumalanga Party, as official opposition t...</td>\n",
       "      <td>ZA</td>\n",
       "      <td>2015-10-24T20:14:00.000+03:00</td>\n",
       "      <td>No title</td>\n",
       "      <td>http://www.news24.com/MyNews24/Unlawful-irregu...</td>\n",
       "    </tr>\n",
       "    <tr>\n",
       "      <th>18</th>\n",
       "      <td>100178</td>\n",
       "      <td>426</td>\n",
       "      <td>technology</td>\n",
       "      <td>Return to video Video settings Please Log in t...</td>\n",
       "      <td>AU</td>\n",
       "      <td>2015-10-05T14:44:00.000+03:00</td>\n",
       "      <td>No title</td>\n",
       "      <td>http://www.canberratimes.com.au/it-pro/busines...</td>\n",
       "    </tr>\n",
       "    <tr>\n",
       "      <th>41</th>\n",
       "      <td>118445</td>\n",
       "      <td>18693</td>\n",
       "      <td>technology</td>\n",
       "      <td>Join ERPVAR.com to learn how Mad Dogg Athletic...</td>\n",
       "      <td>US</td>\n",
       "      <td>2015-10-13T12:03:00.000+03:00</td>\n",
       "      <td>No title</td>\n",
       "      <td>http://www.cbs8.com/story/30245706/erpvarcom-n...</td>\n",
       "    </tr>\n",
       "    <tr>\n",
       "      <th>45</th>\n",
       "      <td>123060</td>\n",
       "      <td>23308</td>\n",
       "      <td>technology</td>\n",
       "      <td>The latest installment in the Metal Gear Solid...</td>\n",
       "      <td>US</td>\n",
       "      <td>2015-09-01T03:00:00.000+03:00</td>\n",
       "      <td>No title</td>\n",
       "      <td>http://newsr.in/n/Technology/755890ym7/Konami-...</td>\n",
       "    </tr>\n",
       "    <tr>\n",
       "      <th>47</th>\n",
       "      <td>129796</td>\n",
       "      <td>30044</td>\n",
       "      <td>technology</td>\n",
       "      <td>Get Business &amp; Technology Alerts \\n28 Sep 2015...</td>\n",
       "      <td>US</td>\n",
       "      <td>2015-09-28T05:49:00.000+03:00</td>\n",
       "      <td>No title</td>\n",
       "      <td>http://www.allmediany.com/news/55432-microsoft...</td>\n",
       "    </tr>\n",
       "    <tr>\n",
       "      <th>55</th>\n",
       "      <td>122400</td>\n",
       "      <td>22648</td>\n",
       "      <td>technology</td>\n",
       "      <td>\"I needed a way to carry my cell phone close t...</td>\n",
       "      <td>US</td>\n",
       "      <td>2015-09-16T03:00:00.000+03:00</td>\n",
       "      <td>No title</td>\n",
       "      <td>http://www.prweb.com/releases/InventHelp-Inven...</td>\n",
       "    </tr>\n",
       "    <tr>\n",
       "      <th>67</th>\n",
       "      <td>121716</td>\n",
       "      <td>21964</td>\n",
       "      <td>technology</td>\n",
       "      <td></td>\n",
       "      <td>US</td>\n",
       "      <td>2015-09-01T19:35:00.000+03:00</td>\n",
       "      <td>No title</td>\n",
       "      <td>http://www.industriesnews.net/story?sid=s23633...</td>\n",
       "    </tr>\n",
       "    <tr>\n",
       "      <th>72</th>\n",
       "      <td>126989</td>\n",
       "      <td>27237</td>\n",
       "      <td>technology</td>\n",
       "      <td>Siri now supports the new Apple TV. CNET\\nTho...</td>\n",
       "      <td>US</td>\n",
       "      <td>2015-09-09T19:07:00.000+03:00</td>\n",
       "      <td>No title</td>\n",
       "      <td>http://www.cnet.com/news/siri-expands-its-reac...</td>\n",
       "    </tr>\n",
       "    <tr>\n",
       "      <th>74</th>\n",
       "      <td>131097</td>\n",
       "      <td>31345</td>\n",
       "      <td>technology</td>\n",
       "      <td>NEW YORK , Sept. 3, 2015 /PRNewswire/ -- Harwo...</td>\n",
       "      <td>US</td>\n",
       "      <td>2015-09-03T03:00:00.000+03:00</td>\n",
       "      <td>No title</td>\n",
       "      <td>http://www.barchart.com/headlines/story/105482...</td>\n",
       "    </tr>\n",
       "    <tr>\n",
       "      <th>76</th>\n",
       "      <td>137297</td>\n",
       "      <td>37545</td>\n",
       "      <td>technology</td>\n",
       "      <td>Halvorsen wants to change economics of cybersp...</td>\n",
       "      <td>US</td>\n",
       "      <td>2015-09-03T01:04:00.000+03:00</td>\n",
       "      <td>No title</td>\n",
       "      <td>http://fcw.com/articles/2015/09/02/halvorsen-e...</td>\n",
       "    </tr>\n",
       "    <tr>\n",
       "      <th>86</th>\n",
       "      <td>115838</td>\n",
       "      <td>16086</td>\n",
       "      <td>technology</td>\n",
       "      <td>New Startup Has Novel Idea - Date More by Bein...</td>\n",
       "      <td>US</td>\n",
       "      <td>2015-10-13T18:38:00.000+03:00</td>\n",
       "      <td>No title</td>\n",
       "      <td>http://www.webwire.com/ViewPressRel.asp?aId=20...</td>\n",
       "    </tr>\n",
       "    <tr>\n",
       "      <th>91</th>\n",
       "      <td>100378</td>\n",
       "      <td>626</td>\n",
       "      <td>technology</td>\n",
       "      <td>Summer internship at HP an 'amazing opportunit...</td>\n",
       "      <td>US</td>\n",
       "      <td>2015-10-08T18:01:00.000+03:00</td>\n",
       "      <td>No title</td>\n",
       "      <td>http://news.psu.edu/story/374135/2015/10/08/ac...</td>\n",
       "    </tr>\n",
       "    <tr>\n",
       "      <th>105</th>\n",
       "      <td>130393</td>\n",
       "      <td>30641</td>\n",
       "      <td>technology</td>\n",
       "      <td>Apple is doubling down on developing an electr...</td>\n",
       "      <td>US</td>\n",
       "      <td>2015-09-22T17:52:00.000+03:00</td>\n",
       "      <td>No title</td>\n",
       "      <td>http://www.theatlantic.com/technology/archive/...</td>\n",
       "    </tr>\n",
       "    <tr>\n",
       "      <th>118</th>\n",
       "      <td>115656</td>\n",
       "      <td>15904</td>\n",
       "      <td>technology</td>\n",
       "      <td>After laying off more than 300 workers, Twitte...</td>\n",
       "      <td>US</td>\n",
       "      <td>2015-10-23T22:28:00.000+03:00</td>\n",
       "      <td>No title</td>\n",
       "      <td>http://www.kirotv.com/ap/ap/top-news/twitter-c...</td>\n",
       "    </tr>\n",
       "    <tr>\n",
       "      <th>127</th>\n",
       "      <td>119943</td>\n",
       "      <td>20191</td>\n",
       "      <td>technology</td>\n",
       "      <td>TODAY, Trevor Noah tried to fill some gigantic...</td>\n",
       "      <td>US</td>\n",
       "      <td>2015-09-29T16:55:00.000+03:00</td>\n",
       "      <td>No title</td>\n",
       "      <td>http://www.dailytelegraph.com.au/entertainment...</td>\n",
       "    </tr>\n",
       "    <tr>\n",
       "      <th>133</th>\n",
       "      <td>106091</td>\n",
       "      <td>6339</td>\n",
       "      <td>technology</td>\n",
       "      <td>Oct 22 Riber SA :\\n* Q3 revenue 2.0 million eu...</td>\n",
       "      <td>US</td>\n",
       "      <td>2015-10-22T20:21:00.000+03:00</td>\n",
       "      <td>No title</td>\n",
       "      <td>http://feeds.reuters.com/~r/reuters/technology...</td>\n",
       "    </tr>\n",
       "    <tr>\n",
       "      <th>146</th>\n",
       "      <td>132517</td>\n",
       "      <td>32765</td>\n",
       "      <td>technology</td>\n",
       "      <td></td>\n",
       "      <td>US</td>\n",
       "      <td>2015-09-02T19:39:00.000+03:00</td>\n",
       "      <td>No title</td>\n",
       "      <td>http://www.industriesnews.net/story?sid=s23636...</td>\n",
       "    </tr>\n",
       "    <tr>\n",
       "      <th>151</th>\n",
       "      <td>130869</td>\n",
       "      <td>31117</td>\n",
       "      <td>technology</td>\n",
       "      <td>Data dump\\nThe 'top shelf' indicators return i...</td>\n",
       "      <td>US</td>\n",
       "      <td>2015-09-26T01:13:00.000+03:00</td>\n",
       "      <td>No title</td>\n",
       "      <td>https://www.businessspectator.com.au/article/2...</td>\n",
       "    </tr>\n",
       "    <tr>\n",
       "      <th>155</th>\n",
       "      <td>104586</td>\n",
       "      <td>4834</td>\n",
       "      <td>technology</td>\n",
       "      <td>2016 Toyota Prius tech improves here, there, a...</td>\n",
       "      <td>US</td>\n",
       "      <td>2015-10-13T07:46:00.000+03:00</td>\n",
       "      <td>No title</td>\n",
       "      <td>http://energy.einnews.com/article_detail/29126...</td>\n",
       "    </tr>\n",
       "    <tr>\n",
       "      <th>157</th>\n",
       "      <td>113280</td>\n",
       "      <td>13528</td>\n",
       "      <td>technology</td>\n",
       "      <td>14 A Mobile Portal Designed for Accessibility ...</td>\n",
       "      <td>US</td>\n",
       "      <td>2015-10-14T15:18:00.000+03:00</td>\n",
       "      <td>No title</td>\n",
       "      <td>http://www.i360gov.com/education-news/2015/oct...</td>\n",
       "    </tr>\n",
       "    <tr>\n",
       "      <th>161</th>\n",
       "      <td>110368</td>\n",
       "      <td>10616</td>\n",
       "      <td>technology</td>\n",
       "      <td>Website optimization company Optimizely said i...</td>\n",
       "      <td>US</td>\n",
       "      <td>2015-10-13T15:33:00.000+03:00</td>\n",
       "      <td>No title</td>\n",
       "      <td>http://www.reuters.com/article/2015/10/13/us-o...</td>\n",
       "    </tr>\n",
       "    <tr>\n",
       "      <th>163</th>\n",
       "      <td>106552</td>\n",
       "      <td>6800</td>\n",
       "      <td>technology</td>\n",
       "      <td>Altera DOCSIS 3.1 Remote PHY Design Enables Di...</td>\n",
       "      <td>US</td>\n",
       "      <td>2015-10-08T22:50:00.000+03:00</td>\n",
       "      <td>No title</td>\n",
       "      <td>http://science-technology.news-articles.net/co...</td>\n",
       "    </tr>\n",
       "    <tr>\n",
       "      <th>165</th>\n",
       "      <td>117042</td>\n",
       "      <td>17290</td>\n",
       "      <td>technology</td>\n",
       "      <td>Submitted by admin on 10/12/2015 @ 4:30 PM Com...</td>\n",
       "      <td>US</td>\n",
       "      <td>2015-10-13T02:30:00.000+03:00</td>\n",
       "      <td>No title</td>\n",
       "      <td>http://www.freshnews.com/news/1139307/world-wa...</td>\n",
       "    </tr>\n",
       "    <tr>\n",
       "      <th>174</th>\n",
       "      <td>123998</td>\n",
       "      <td>24246</td>\n",
       "      <td>technology</td>\n",
       "      <td>SpaceX has given us a peek into the Crew Drago...</td>\n",
       "      <td>US</td>\n",
       "      <td>2015-09-11T03:00:00.000+03:00</td>\n",
       "      <td>No title</td>\n",
       "      <td>http://newsr.in/n/Technology/755897t4g/SpaceX-...</td>\n",
       "    </tr>\n",
       "    <tr>\n",
       "      <th>205</th>\n",
       "      <td>137026</td>\n",
       "      <td>37274</td>\n",
       "      <td>technology</td>\n",
       "      <td></td>\n",
       "      <td>US</td>\n",
       "      <td>2015-09-29T22:29:00.000+03:00</td>\n",
       "      <td>No title</td>\n",
       "      <td>http://www.bio-medicine.org/biology-technology...</td>\n",
       "    </tr>\n",
       "    <tr>\n",
       "      <th>208</th>\n",
       "      <td>118010</td>\n",
       "      <td>18258</td>\n",
       "      <td>technology</td>\n",
       "      <td>Noah Consulting being acquired by Infosys in $...</td>\n",
       "      <td>US</td>\n",
       "      <td>2015-10-19T18:20:00.000+03:00</td>\n",
       "      <td>No title</td>\n",
       "      <td>http://www.industriesnews.net/story?sid=s23777...</td>\n",
       "    </tr>\n",
       "    <tr>\n",
       "      <th>220</th>\n",
       "      <td>137188</td>\n",
       "      <td>37436</td>\n",
       "      <td>technology</td>\n",
       "      <td>TEMIA Attracts Record Number of Meeting Attend...</td>\n",
       "      <td>US</td>\n",
       "      <td>2015-09-30T10:00:00.000+03:00</td>\n",
       "      <td>No title</td>\n",
       "      <td>http://www.24-7pressrelease.com/press-release/...</td>\n",
       "    </tr>\n",
       "    <tr>\n",
       "      <th>233</th>\n",
       "      <td>107573</td>\n",
       "      <td>7821</td>\n",
       "      <td>technology</td>\n",
       "      <td>RSS Navigation Links HOME &gt;&gt; MEDICINE &gt;&gt; TECHN...</td>\n",
       "      <td>US</td>\n",
       "      <td>2015-10-21T17:08:00.000+03:00</td>\n",
       "      <td>No title</td>\n",
       "      <td>http://www.bio-medicine.org/medicine-technolog...</td>\n",
       "    </tr>\n",
       "    <tr>\n",
       "      <th>235</th>\n",
       "      <td>134068</td>\n",
       "      <td>34316</td>\n",
       "      <td>technology</td>\n",
       "      <td>Tip : Use comma (,) to separate multiple quote...</td>\n",
       "      <td>GB</td>\n",
       "      <td>2015-09-16T11:32:00.000+03:00</td>\n",
       "      <td>No title</td>\n",
       "      <td>https://uk.finance.yahoo.com/news/now-perfect-...</td>\n",
       "    </tr>\n",
       "    <tr>\n",
       "      <th>241</th>\n",
       "      <td>130202</td>\n",
       "      <td>30450</td>\n",
       "      <td>technology</td>\n",
       "      <td>Cairo - UN envoy Bernardino Leon said late on ...</td>\n",
       "      <td>ZA</td>\n",
       "      <td>2015-09-23T01:45:00.000+03:00</td>\n",
       "      <td>No title</td>\n",
       "      <td>http://www.news24.com/Africa/News/UN-Libya-env...</td>\n",
       "    </tr>\n",
       "    <tr>\n",
       "      <th>...</th>\n",
       "      <td>...</td>\n",
       "      <td>...</td>\n",
       "      <td>...</td>\n",
       "      <td>...</td>\n",
       "      <td>...</td>\n",
       "      <td>...</td>\n",
       "      <td>...</td>\n",
       "      <td>...</td>\n",
       "    </tr>\n",
       "    <tr>\n",
       "      <th>51814</th>\n",
       "      <td>138225</td>\n",
       "      <td>38473</td>\n",
       "      <td>technology</td>\n",
       "      <td>Email a friend \\nABDUCTIONS, bashings, and col...</td>\n",
       "      <td>IL</td>\n",
       "      <td>2015-09-18T15:37:00.000+03:00</td>\n",
       "      <td>No title</td>\n",
       "      <td>http://www.news.com.au/technology/online/onlin...</td>\n",
       "    </tr>\n",
       "    <tr>\n",
       "      <th>51818</th>\n",
       "      <td>131464</td>\n",
       "      <td>31712</td>\n",
       "      <td>technology</td>\n",
       "      <td>From 2D to 3D Printed Electronics 2015-2025 --...</td>\n",
       "      <td>US</td>\n",
       "      <td>2015-09-22T00:27:00.000+03:00</td>\n",
       "      <td>No title</td>\n",
       "      <td>http://www.prnewswire.com/news-releases/from-2...</td>\n",
       "    </tr>\n",
       "    <tr>\n",
       "      <th>51822</th>\n",
       "      <td>116100</td>\n",
       "      <td>16348</td>\n",
       "      <td>technology</td>\n",
       "      <td>How do you celebrate National Chemistry Week? ...</td>\n",
       "      <td>US</td>\n",
       "      <td>2015-10-14T20:00:00.000+03:00</td>\n",
       "      <td>No title</td>\n",
       "      <td>http://www.buffalo.edu/news/releases/2015/10/0...</td>\n",
       "    </tr>\n",
       "    <tr>\n",
       "      <th>51833</th>\n",
       "      <td>107079</td>\n",
       "      <td>7327</td>\n",
       "      <td>technology</td>\n",
       "      <td>Wh&amp;#1072t elephants с&amp;#1072n teach scientists ...</td>\n",
       "      <td>US</td>\n",
       "      <td>2015-10-09T08:04:00.000+03:00</td>\n",
       "      <td>No title</td>\n",
       "      <td>http://viewlivenews.com/what-elephants-can-tea...</td>\n",
       "    </tr>\n",
       "    <tr>\n",
       "      <th>51839</th>\n",
       "      <td>129022</td>\n",
       "      <td>29270</td>\n",
       "      <td>technology</td>\n",
       "      <td>36 startups &amp; entrepreneurs enter final round ...</td>\n",
       "      <td>US</td>\n",
       "      <td>2015-09-24T21:40:00.000+03:00</td>\n",
       "      <td>No title</td>\n",
       "      <td>http://science-technology.news-articles.net/co...</td>\n",
       "    </tr>\n",
       "    <tr>\n",
       "      <th>51842</th>\n",
       "      <td>105557</td>\n",
       "      <td>5805</td>\n",
       "      <td>technology</td>\n",
       "      <td>12 DARPA seeks to treat bodies with light, ele...</td>\n",
       "      <td>US</td>\n",
       "      <td>2015-10-13T02:17:00.000+03:00</td>\n",
       "      <td>No title</td>\n",
       "      <td>http://www.i360gov.com/US-military-news/2015/o...</td>\n",
       "    </tr>\n",
       "    <tr>\n",
       "      <th>51846</th>\n",
       "      <td>115386</td>\n",
       "      <td>15634</td>\n",
       "      <td>technology</td>\n",
       "      <td>Submitted by admin on 10/7/2015 @ 1:30 PM   EM...</td>\n",
       "      <td>US</td>\n",
       "      <td>2015-10-07T23:30:00.000+03:00</td>\n",
       "      <td>No title</td>\n",
       "      <td>http://www.freshnews.com/news/1137908/emc-to-a...</td>\n",
       "    </tr>\n",
       "    <tr>\n",
       "      <th>51854</th>\n",
       "      <td>102301</td>\n",
       "      <td>2549</td>\n",
       "      <td>technology</td>\n",
       "      <td>tweet \\nThe word politics within the Nigerian ...</td>\n",
       "      <td>NaN</td>\n",
       "      <td>2015-10-13T17:17:00.000+03:00</td>\n",
       "      <td>No title</td>\n",
       "      <td>http://www.securenigeria365.com/politics-and-t...</td>\n",
       "    </tr>\n",
       "    <tr>\n",
       "      <th>51857</th>\n",
       "      <td>128161</td>\n",
       "      <td>28409</td>\n",
       "      <td>technology</td>\n",
       "      <td>SpinifexIT, the leading provider of business p...</td>\n",
       "      <td>US</td>\n",
       "      <td>2015-09-02T03:00:00.000+03:00</td>\n",
       "      <td>No title</td>\n",
       "      <td>http://www.prweb.com/releases/2015/09/prweb129...</td>\n",
       "    </tr>\n",
       "    <tr>\n",
       "      <th>51861</th>\n",
       "      <td>125928</td>\n",
       "      <td>26176</td>\n",
       "      <td>technology</td>\n",
       "      <td>Send to friend \\nNew data from Juniper Researc...</td>\n",
       "      <td>GB</td>\n",
       "      <td>2015-09-16T12:29:00.000+03:00</td>\n",
       "      <td>No title</td>\n",
       "      <td>http://www.retailtechnologyreview.com/articles...</td>\n",
       "    </tr>\n",
       "    <tr>\n",
       "      <th>51862</th>\n",
       "      <td>131096</td>\n",
       "      <td>31344</td>\n",
       "      <td>technology</td>\n",
       "      <td>Technology Should Be About More than Efficienc...</td>\n",
       "      <td>IL</td>\n",
       "      <td>2015-09-25T17:45:00.000+03:00</td>\n",
       "      <td>No title</td>\n",
       "      <td>http://news.google.com/news/url?sa=t&amp;fd=R&amp;ct2=...</td>\n",
       "    </tr>\n",
       "    <tr>\n",
       "      <th>51869</th>\n",
       "      <td>124711</td>\n",
       "      <td>24959</td>\n",
       "      <td>technology</td>\n",
       "      <td>Blackmoney: SC asks SIT to give progress repor...</td>\n",
       "      <td>US</td>\n",
       "      <td>2015-09-03T03:00:00.000+03:00</td>\n",
       "      <td>No title</td>\n",
       "      <td>http://www.deccanherald.com/content/498928/bla...</td>\n",
       "    </tr>\n",
       "    <tr>\n",
       "      <th>51870</th>\n",
       "      <td>125293</td>\n",
       "      <td>25541</td>\n",
       "      <td>technology</td>\n",
       "      <td>Innovation, entrepreneurship, technology and r...</td>\n",
       "      <td>US</td>\n",
       "      <td>2015-09-25T03:00:00.000+03:00</td>\n",
       "      <td>No title</td>\n",
       "      <td>http://newsr.in/n/Technology/75589i9qg/Prime-M...</td>\n",
       "    </tr>\n",
       "    <tr>\n",
       "      <th>51875</th>\n",
       "      <td>112943</td>\n",
       "      <td>13191</td>\n",
       "      <td>technology</td>\n",
       "      <td>Southern Land Co. has been selected to develop...</td>\n",
       "      <td>US</td>\n",
       "      <td>2015-10-02T03:00:00.000+03:00</td>\n",
       "      <td>No title</td>\n",
       "      <td>http://www.philly.com/philly/business/real_est...</td>\n",
       "    </tr>\n",
       "    <tr>\n",
       "      <th>51881</th>\n",
       "      <td>108454</td>\n",
       "      <td>8702</td>\n",
       "      <td>technology</td>\n",
       "      <td>Noah Consulting being acquired by Infosys in $...</td>\n",
       "      <td>US</td>\n",
       "      <td>2015-10-20T09:25:00.000+03:00</td>\n",
       "      <td>No title</td>\n",
       "      <td>http://www.industriesnews.net/story?sid=s23779...</td>\n",
       "    </tr>\n",
       "    <tr>\n",
       "      <th>51889</th>\n",
       "      <td>102280</td>\n",
       "      <td>2528</td>\n",
       "      <td>technology</td>\n",
       "      <td>Units such as the Pioneer DEH P99RS can delive...</td>\n",
       "      <td>AU</td>\n",
       "      <td>2015-10-22T06:53:00.000+03:00</td>\n",
       "      <td>No title</td>\n",
       "      <td>http://www.canberratimes.com.au/digital-life/c...</td>\n",
       "    </tr>\n",
       "    <tr>\n",
       "      <th>51893</th>\n",
       "      <td>115187</td>\n",
       "      <td>15435</td>\n",
       "      <td>technology</td>\n",
       "      <td>* Comment: * Email: (Date:10/9/2015)... -- Eli...</td>\n",
       "      <td>US</td>\n",
       "      <td>2015-10-09T21:14:00.000+03:00</td>\n",
       "      <td>No title</td>\n",
       "      <td>http://www.bio-medicine.org/medicine-technolog...</td>\n",
       "    </tr>\n",
       "    <tr>\n",
       "      <th>51898</th>\n",
       "      <td>100351</td>\n",
       "      <td>599</td>\n",
       "      <td>technology</td>\n",
       "      <td>BRIEF-Cashcloud names Moritz Hunzinger as new ...</td>\n",
       "      <td>US</td>\n",
       "      <td>2015-10-19T20:20:00.000+03:00</td>\n",
       "      <td>No title</td>\n",
       "      <td>http://www.reuters.com/article/2015/10/19/idUS...</td>\n",
       "    </tr>\n",
       "    <tr>\n",
       "      <th>51901</th>\n",
       "      <td>119588</td>\n",
       "      <td>19836</td>\n",
       "      <td>technology</td>\n",
       "      <td>Elemental Technologies being acquired by Amazo...</td>\n",
       "      <td>US</td>\n",
       "      <td>2015-09-04T10:51:00.000+03:00</td>\n",
       "      <td>No title</td>\n",
       "      <td>http://www.industriesnews.net/story?sid=s23642...</td>\n",
       "    </tr>\n",
       "    <tr>\n",
       "      <th>51905</th>\n",
       "      <td>102914</td>\n",
       "      <td>3162</td>\n",
       "      <td>technology</td>\n",
       "      <td>What Amazon, Microsoft and Google are doing ri...</td>\n",
       "      <td>US</td>\n",
       "      <td>2015-10-24T09:26:00.000+03:00</td>\n",
       "      <td>No title</td>\n",
       "      <td>http://www.industriesnews.net/story?sid=s23791...</td>\n",
       "    </tr>\n",
       "    <tr>\n",
       "      <th>51919</th>\n",
       "      <td>129714</td>\n",
       "      <td>29962</td>\n",
       "      <td>technology</td>\n",
       "      <td>Acer has taken the idea of building your own P...</td>\n",
       "      <td>GB</td>\n",
       "      <td>2015-09-04T18:06:00.000+03:00</td>\n",
       "      <td>No title</td>\n",
       "      <td>http://www.techradar.com/reviews/pc-mac/pc-mac...</td>\n",
       "    </tr>\n",
       "    <tr>\n",
       "      <th>51923</th>\n",
       "      <td>124120</td>\n",
       "      <td>24368</td>\n",
       "      <td>technology</td>\n",
       "      <td>September 15, 2015 Rate this report Intelligen...</td>\n",
       "      <td>GB</td>\n",
       "      <td>2015-09-15T02:00:00.000+03:00</td>\n",
       "      <td>No title</td>\n",
       "      <td>http://www.currentanalysis.com/COMPETE/FrontEn...</td>\n",
       "    </tr>\n",
       "    <tr>\n",
       "      <th>51938</th>\n",
       "      <td>109717</td>\n",
       "      <td>9965</td>\n",
       "      <td>technology</td>\n",
       "      <td>Phone and Internet service provider Talk Talk ...</td>\n",
       "      <td>US</td>\n",
       "      <td>2015-10-23T03:00:00.000+03:00</td>\n",
       "      <td>No title</td>\n",
       "      <td>http://abcnews.go.com/Technology/wireStory/hac...</td>\n",
       "    </tr>\n",
       "    <tr>\n",
       "      <th>51946</th>\n",
       "      <td>136504</td>\n",
       "      <td>36752</td>\n",
       "      <td>technology</td>\n",
       "      <td></td>\n",
       "      <td>US</td>\n",
       "      <td>2015-09-30T15:46:00.000+03:00</td>\n",
       "      <td>No title</td>\n",
       "      <td>http://www.bio-medicine.org/medicine-technolog...</td>\n",
       "    </tr>\n",
       "    <tr>\n",
       "      <th>51962</th>\n",
       "      <td>129506</td>\n",
       "      <td>29754</td>\n",
       "      <td>technology</td>\n",
       "      <td>Global Online Gaming Market 2015 \\nNEW YORK , ...</td>\n",
       "      <td>US</td>\n",
       "      <td>2015-09-15T22:00:00.000+03:00</td>\n",
       "      <td>No title</td>\n",
       "      <td>http://www.consumerelectronicsnet.com/articles...</td>\n",
       "    </tr>\n",
       "    <tr>\n",
       "      <th>51963</th>\n",
       "      <td>115138</td>\n",
       "      <td>15386</td>\n",
       "      <td>technology</td>\n",
       "      <td>Nomalungelo Petela (47)\\nBuffalo City region, ...</td>\n",
       "      <td>ZA</td>\n",
       "      <td>2015-10-11T23:18:00.000+03:00</td>\n",
       "      <td>No title</td>\n",
       "      <td>http://www.news24.com/SouthAfrica/News/ANC-NGC...</td>\n",
       "    </tr>\n",
       "    <tr>\n",
       "      <th>51969</th>\n",
       "      <td>120512</td>\n",
       "      <td>20760</td>\n",
       "      <td>technology</td>\n",
       "      <td>Air Liquide acquires Messer Aligaz in Turkey a...</td>\n",
       "      <td>NaN</td>\n",
       "      <td>2015-09-17T02:00:00.000+03:00</td>\n",
       "      <td>No title</td>\n",
       "      <td>http://www.chemicals-technology.com/news/newsa...</td>\n",
       "    </tr>\n",
       "    <tr>\n",
       "      <th>51971</th>\n",
       "      <td>130750</td>\n",
       "      <td>30998</td>\n",
       "      <td>technology</td>\n",
       "      <td>London - Britain's military killed two British...</td>\n",
       "      <td>ZA</td>\n",
       "      <td>2015-09-08T05:09:00.000+03:00</td>\n",
       "      <td>No title</td>\n",
       "      <td>http://www.news24.com/World/News/UK-drone-atta...</td>\n",
       "    </tr>\n",
       "    <tr>\n",
       "      <th>51976</th>\n",
       "      <td>124068</td>\n",
       "      <td>24316</td>\n",
       "      <td>technology</td>\n",
       "      <td>This Aug. 26, 2015 photo shows an Apple iPhone...</td>\n",
       "      <td>US</td>\n",
       "      <td>2015-09-30T03:00:00.000+03:00</td>\n",
       "      <td>No title</td>\n",
       "      <td>http://www.topix.com/tech/2015/09/why-phones-b...</td>\n",
       "    </tr>\n",
       "    <tr>\n",
       "      <th>51985</th>\n",
       "      <td>134547</td>\n",
       "      <td>34795</td>\n",
       "      <td>technology</td>\n",
       "      <td>Submitted by admin on 9/30/2015 @ 5:00 AM   Sp...</td>\n",
       "      <td>US</td>\n",
       "      <td>2015-09-30T15:00:00.000+03:00</td>\n",
       "      <td>No title</td>\n",
       "      <td>http://www.freshnews.com/news/1134194/survey-i...</td>\n",
       "    </tr>\n",
       "  </tbody>\n",
       "</table>\n",
       "<p>6117 rows × 8 columns</p>\n",
       "</div>"
      ],
      "text/plain": [
       "       Unnamed: 0  Unnamed: 0.1    category  \\\n",
       "4          110525         10773  technology   \n",
       "18         100178           426  technology   \n",
       "41         118445         18693  technology   \n",
       "45         123060         23308  technology   \n",
       "47         129796         30044  technology   \n",
       "55         122400         22648  technology   \n",
       "67         121716         21964  technology   \n",
       "72         126989         27237  technology   \n",
       "74         131097         31345  technology   \n",
       "76         137297         37545  technology   \n",
       "86         115838         16086  technology   \n",
       "91         100378           626  technology   \n",
       "105        130393         30641  technology   \n",
       "118        115656         15904  technology   \n",
       "127        119943         20191  technology   \n",
       "133        106091          6339  technology   \n",
       "146        132517         32765  technology   \n",
       "151        130869         31117  technology   \n",
       "155        104586          4834  technology   \n",
       "157        113280         13528  technology   \n",
       "161        110368         10616  technology   \n",
       "163        106552          6800  technology   \n",
       "165        117042         17290  technology   \n",
       "174        123998         24246  technology   \n",
       "205        137026         37274  technology   \n",
       "208        118010         18258  technology   \n",
       "220        137188         37436  technology   \n",
       "233        107573          7821  technology   \n",
       "235        134068         34316  technology   \n",
       "241        130202         30450  technology   \n",
       "...           ...           ...         ...   \n",
       "51814      138225         38473  technology   \n",
       "51818      131464         31712  technology   \n",
       "51822      116100         16348  technology   \n",
       "51833      107079          7327  technology   \n",
       "51839      129022         29270  technology   \n",
       "51842      105557          5805  technology   \n",
       "51846      115386         15634  technology   \n",
       "51854      102301          2549  technology   \n",
       "51857      128161         28409  technology   \n",
       "51861      125928         26176  technology   \n",
       "51862      131096         31344  technology   \n",
       "51869      124711         24959  technology   \n",
       "51870      125293         25541  technology   \n",
       "51875      112943         13191  technology   \n",
       "51881      108454          8702  technology   \n",
       "51889      102280          2528  technology   \n",
       "51893      115187         15435  technology   \n",
       "51898      100351           599  technology   \n",
       "51901      119588         19836  technology   \n",
       "51905      102914          3162  technology   \n",
       "51919      129714         29962  technology   \n",
       "51923      124120         24368  technology   \n",
       "51938      109717          9965  technology   \n",
       "51946      136504         36752  technology   \n",
       "51962      129506         29754  technology   \n",
       "51963      115138         15386  technology   \n",
       "51969      120512         20760  technology   \n",
       "51971      130750         30998  technology   \n",
       "51976      124068         24316  technology   \n",
       "51985      134547         34795  technology   \n",
       "\n",
       "                                                 content country  \\\n",
       "4      The Mpumalanga Party, as official opposition t...      ZA   \n",
       "18     Return to video Video settings Please Log in t...      AU   \n",
       "41     Join ERPVAR.com to learn how Mad Dogg Athletic...      US   \n",
       "45     The latest installment in the Metal Gear Solid...      US   \n",
       "47     Get Business & Technology Alerts \\n28 Sep 2015...      US   \n",
       "55     \"I needed a way to carry my cell phone close t...      US   \n",
       "67                                                            US   \n",
       "72      Siri now supports the new Apple TV. CNET\\nTho...      US   \n",
       "74     NEW YORK , Sept. 3, 2015 /PRNewswire/ -- Harwo...      US   \n",
       "76     Halvorsen wants to change economics of cybersp...      US   \n",
       "86     New Startup Has Novel Idea - Date More by Bein...      US   \n",
       "91     Summer internship at HP an 'amazing opportunit...      US   \n",
       "105    Apple is doubling down on developing an electr...      US   \n",
       "118    After laying off more than 300 workers, Twitte...      US   \n",
       "127    TODAY, Trevor Noah tried to fill some gigantic...      US   \n",
       "133    Oct 22 Riber SA :\\n* Q3 revenue 2.0 million eu...      US   \n",
       "146                                                           US   \n",
       "151    Data dump\\nThe 'top shelf' indicators return i...      US   \n",
       "155    2016 Toyota Prius tech improves here, there, a...      US   \n",
       "157    14 A Mobile Portal Designed for Accessibility ...      US   \n",
       "161    Website optimization company Optimizely said i...      US   \n",
       "163    Altera DOCSIS 3.1 Remote PHY Design Enables Di...      US   \n",
       "165    Submitted by admin on 10/12/2015 @ 4:30 PM Com...      US   \n",
       "174    SpaceX has given us a peek into the Crew Drago...      US   \n",
       "205                                                           US   \n",
       "208    Noah Consulting being acquired by Infosys in $...      US   \n",
       "220    TEMIA Attracts Record Number of Meeting Attend...      US   \n",
       "233    RSS Navigation Links HOME >> MEDICINE >> TECHN...      US   \n",
       "235    Tip : Use comma (,) to separate multiple quote...      GB   \n",
       "241    Cairo - UN envoy Bernardino Leon said late on ...      ZA   \n",
       "...                                                  ...     ...   \n",
       "51814  Email a friend \\nABDUCTIONS, bashings, and col...      IL   \n",
       "51818  From 2D to 3D Printed Electronics 2015-2025 --...      US   \n",
       "51822  How do you celebrate National Chemistry Week? ...      US   \n",
       "51833  Wh&#1072t elephants с&#1072n teach scientists ...      US   \n",
       "51839  36 startups & entrepreneurs enter final round ...      US   \n",
       "51842  12 DARPA seeks to treat bodies with light, ele...      US   \n",
       "51846  Submitted by admin on 10/7/2015 @ 1:30 PM   EM...      US   \n",
       "51854  tweet \\nThe word politics within the Nigerian ...     NaN   \n",
       "51857  SpinifexIT, the leading provider of business p...      US   \n",
       "51861  Send to friend \\nNew data from Juniper Researc...      GB   \n",
       "51862  Technology Should Be About More than Efficienc...      IL   \n",
       "51869  Blackmoney: SC asks SIT to give progress repor...      US   \n",
       "51870  Innovation, entrepreneurship, technology and r...      US   \n",
       "51875  Southern Land Co. has been selected to develop...      US   \n",
       "51881  Noah Consulting being acquired by Infosys in $...      US   \n",
       "51889  Units such as the Pioneer DEH P99RS can delive...      AU   \n",
       "51893  * Comment: * Email: (Date:10/9/2015)... -- Eli...      US   \n",
       "51898  BRIEF-Cashcloud names Moritz Hunzinger as new ...      US   \n",
       "51901  Elemental Technologies being acquired by Amazo...      US   \n",
       "51905  What Amazon, Microsoft and Google are doing ri...      US   \n",
       "51919  Acer has taken the idea of building your own P...      GB   \n",
       "51923  September 15, 2015 Rate this report Intelligen...      GB   \n",
       "51938  Phone and Internet service provider Talk Talk ...      US   \n",
       "51946                                                         US   \n",
       "51962  Global Online Gaming Market 2015 \\nNEW YORK , ...      US   \n",
       "51963  Nomalungelo Petela (47)\\nBuffalo City region, ...      ZA   \n",
       "51969  Air Liquide acquires Messer Aligaz in Turkey a...     NaN   \n",
       "51971  London - Britain's military killed two British...      ZA   \n",
       "51976  This Aug. 26, 2015 photo shows an Apple iPhone...      US   \n",
       "51985  Submitted by admin on 9/30/2015 @ 5:00 AM   Sp...      US   \n",
       "\n",
       "                                date     title  \\\n",
       "4      2015-10-24T20:14:00.000+03:00  No title   \n",
       "18     2015-10-05T14:44:00.000+03:00  No title   \n",
       "41     2015-10-13T12:03:00.000+03:00  No title   \n",
       "45     2015-09-01T03:00:00.000+03:00  No title   \n",
       "47     2015-09-28T05:49:00.000+03:00  No title   \n",
       "55     2015-09-16T03:00:00.000+03:00  No title   \n",
       "67     2015-09-01T19:35:00.000+03:00  No title   \n",
       "72     2015-09-09T19:07:00.000+03:00  No title   \n",
       "74     2015-09-03T03:00:00.000+03:00  No title   \n",
       "76     2015-09-03T01:04:00.000+03:00  No title   \n",
       "86     2015-10-13T18:38:00.000+03:00  No title   \n",
       "91     2015-10-08T18:01:00.000+03:00  No title   \n",
       "105    2015-09-22T17:52:00.000+03:00  No title   \n",
       "118    2015-10-23T22:28:00.000+03:00  No title   \n",
       "127    2015-09-29T16:55:00.000+03:00  No title   \n",
       "133    2015-10-22T20:21:00.000+03:00  No title   \n",
       "146    2015-09-02T19:39:00.000+03:00  No title   \n",
       "151    2015-09-26T01:13:00.000+03:00  No title   \n",
       "155    2015-10-13T07:46:00.000+03:00  No title   \n",
       "157    2015-10-14T15:18:00.000+03:00  No title   \n",
       "161    2015-10-13T15:33:00.000+03:00  No title   \n",
       "163    2015-10-08T22:50:00.000+03:00  No title   \n",
       "165    2015-10-13T02:30:00.000+03:00  No title   \n",
       "174    2015-09-11T03:00:00.000+03:00  No title   \n",
       "205    2015-09-29T22:29:00.000+03:00  No title   \n",
       "208    2015-10-19T18:20:00.000+03:00  No title   \n",
       "220    2015-09-30T10:00:00.000+03:00  No title   \n",
       "233    2015-10-21T17:08:00.000+03:00  No title   \n",
       "235    2015-09-16T11:32:00.000+03:00  No title   \n",
       "241    2015-09-23T01:45:00.000+03:00  No title   \n",
       "...                              ...       ...   \n",
       "51814  2015-09-18T15:37:00.000+03:00  No title   \n",
       "51818  2015-09-22T00:27:00.000+03:00  No title   \n",
       "51822  2015-10-14T20:00:00.000+03:00  No title   \n",
       "51833  2015-10-09T08:04:00.000+03:00  No title   \n",
       "51839  2015-09-24T21:40:00.000+03:00  No title   \n",
       "51842  2015-10-13T02:17:00.000+03:00  No title   \n",
       "51846  2015-10-07T23:30:00.000+03:00  No title   \n",
       "51854  2015-10-13T17:17:00.000+03:00  No title   \n",
       "51857  2015-09-02T03:00:00.000+03:00  No title   \n",
       "51861  2015-09-16T12:29:00.000+03:00  No title   \n",
       "51862  2015-09-25T17:45:00.000+03:00  No title   \n",
       "51869  2015-09-03T03:00:00.000+03:00  No title   \n",
       "51870  2015-09-25T03:00:00.000+03:00  No title   \n",
       "51875  2015-10-02T03:00:00.000+03:00  No title   \n",
       "51881  2015-10-20T09:25:00.000+03:00  No title   \n",
       "51889  2015-10-22T06:53:00.000+03:00  No title   \n",
       "51893  2015-10-09T21:14:00.000+03:00  No title   \n",
       "51898  2015-10-19T20:20:00.000+03:00  No title   \n",
       "51901  2015-09-04T10:51:00.000+03:00  No title   \n",
       "51905  2015-10-24T09:26:00.000+03:00  No title   \n",
       "51919  2015-09-04T18:06:00.000+03:00  No title   \n",
       "51923  2015-09-15T02:00:00.000+03:00  No title   \n",
       "51938  2015-10-23T03:00:00.000+03:00  No title   \n",
       "51946  2015-09-30T15:46:00.000+03:00  No title   \n",
       "51962  2015-09-15T22:00:00.000+03:00  No title   \n",
       "51963  2015-10-11T23:18:00.000+03:00  No title   \n",
       "51969  2015-09-17T02:00:00.000+03:00  No title   \n",
       "51971  2015-09-08T05:09:00.000+03:00  No title   \n",
       "51976  2015-09-30T03:00:00.000+03:00  No title   \n",
       "51985  2015-09-30T15:00:00.000+03:00  No title   \n",
       "\n",
       "                                                     url  \n",
       "4      http://www.news24.com/MyNews24/Unlawful-irregu...  \n",
       "18     http://www.canberratimes.com.au/it-pro/busines...  \n",
       "41     http://www.cbs8.com/story/30245706/erpvarcom-n...  \n",
       "45     http://newsr.in/n/Technology/755890ym7/Konami-...  \n",
       "47     http://www.allmediany.com/news/55432-microsoft...  \n",
       "55     http://www.prweb.com/releases/InventHelp-Inven...  \n",
       "67     http://www.industriesnews.net/story?sid=s23633...  \n",
       "72     http://www.cnet.com/news/siri-expands-its-reac...  \n",
       "74     http://www.barchart.com/headlines/story/105482...  \n",
       "76     http://fcw.com/articles/2015/09/02/halvorsen-e...  \n",
       "86     http://www.webwire.com/ViewPressRel.asp?aId=20...  \n",
       "91     http://news.psu.edu/story/374135/2015/10/08/ac...  \n",
       "105    http://www.theatlantic.com/technology/archive/...  \n",
       "118    http://www.kirotv.com/ap/ap/top-news/twitter-c...  \n",
       "127    http://www.dailytelegraph.com.au/entertainment...  \n",
       "133    http://feeds.reuters.com/~r/reuters/technology...  \n",
       "146    http://www.industriesnews.net/story?sid=s23636...  \n",
       "151    https://www.businessspectator.com.au/article/2...  \n",
       "155    http://energy.einnews.com/article_detail/29126...  \n",
       "157    http://www.i360gov.com/education-news/2015/oct...  \n",
       "161    http://www.reuters.com/article/2015/10/13/us-o...  \n",
       "163    http://science-technology.news-articles.net/co...  \n",
       "165    http://www.freshnews.com/news/1139307/world-wa...  \n",
       "174    http://newsr.in/n/Technology/755897t4g/SpaceX-...  \n",
       "205    http://www.bio-medicine.org/biology-technology...  \n",
       "208    http://www.industriesnews.net/story?sid=s23777...  \n",
       "220    http://www.24-7pressrelease.com/press-release/...  \n",
       "233    http://www.bio-medicine.org/medicine-technolog...  \n",
       "235    https://uk.finance.yahoo.com/news/now-perfect-...  \n",
       "241    http://www.news24.com/Africa/News/UN-Libya-env...  \n",
       "...                                                  ...  \n",
       "51814  http://www.news.com.au/technology/online/onlin...  \n",
       "51818  http://www.prnewswire.com/news-releases/from-2...  \n",
       "51822  http://www.buffalo.edu/news/releases/2015/10/0...  \n",
       "51833  http://viewlivenews.com/what-elephants-can-tea...  \n",
       "51839  http://science-technology.news-articles.net/co...  \n",
       "51842  http://www.i360gov.com/US-military-news/2015/o...  \n",
       "51846  http://www.freshnews.com/news/1137908/emc-to-a...  \n",
       "51854  http://www.securenigeria365.com/politics-and-t...  \n",
       "51857  http://www.prweb.com/releases/2015/09/prweb129...  \n",
       "51861  http://www.retailtechnologyreview.com/articles...  \n",
       "51862  http://news.google.com/news/url?sa=t&fd=R&ct2=...  \n",
       "51869  http://www.deccanherald.com/content/498928/bla...  \n",
       "51870  http://newsr.in/n/Technology/75589i9qg/Prime-M...  \n",
       "51875  http://www.philly.com/philly/business/real_est...  \n",
       "51881  http://www.industriesnews.net/story?sid=s23779...  \n",
       "51889  http://www.canberratimes.com.au/digital-life/c...  \n",
       "51893  http://www.bio-medicine.org/medicine-technolog...  \n",
       "51898  http://www.reuters.com/article/2015/10/19/idUS...  \n",
       "51901  http://www.industriesnews.net/story?sid=s23642...  \n",
       "51905  http://www.industriesnews.net/story?sid=s23791...  \n",
       "51919  http://www.techradar.com/reviews/pc-mac/pc-mac...  \n",
       "51923  http://www.currentanalysis.com/COMPETE/FrontEn...  \n",
       "51938  http://abcnews.go.com/Technology/wireStory/hac...  \n",
       "51946  http://www.bio-medicine.org/medicine-technolog...  \n",
       "51962  http://www.consumerelectronicsnet.com/articles...  \n",
       "51963  http://www.news24.com/SouthAfrica/News/ANC-NGC...  \n",
       "51969  http://www.chemicals-technology.com/news/newsa...  \n",
       "51971  http://www.news24.com/World/News/UK-drone-atta...  \n",
       "51976  http://www.topix.com/tech/2015/09/why-phones-b...  \n",
       "51985  http://www.freshnews.com/news/1134194/survey-i...  \n",
       "\n",
       "[6117 rows x 8 columns]"
      ]
     },
     "execution_count": 12,
     "metadata": {},
     "output_type": "execute_result"
    }
   ],
   "source": [
    "df_other[df_other['category'] == 'technology']"
   ]
  },
  {
   "cell_type": "code",
   "execution_count": 8,
   "metadata": {
    "collapsed": true
   },
   "outputs": [],
   "source": [
    "df = pd.DataFrame(columns=['Category_id','Category','Content'])"
   ]
  },
  {
   "cell_type": "code",
   "execution_count": 13,
   "metadata": {
    "collapsed": true
   },
   "outputs": [],
   "source": [
    "for i,row in df_unrest.iterrows():\n",
    "    df = df.append({'Category_id':1,'Category':'other','Content':row['content']},ignore_index=True)"
   ]
  },
  {
   "cell_type": "code",
   "execution_count": 14,
   "metadata": {
    "collapsed": true
   },
   "outputs": [],
   "source": [
    "df.to_csv('classification_data_gdelt.csv')"
   ]
  },
  {
   "cell_type": "code",
   "execution_count": 4,
   "metadata": {
    "collapsed": true
   },
   "outputs": [],
   "source": [
    "df = pd.read_csv('classification_data.csv')"
   ]
  },
  {
   "cell_type": "code",
   "execution_count": 3,
   "metadata": {
    "collapsed": true
   },
   "outputs": [],
   "source": [
    "from sklearn.feature_extraction.text import TfidfVectorizer"
   ]
  },
  {
   "cell_type": "code",
   "execution_count": 4,
   "metadata": {
    "collapsed": true
   },
   "outputs": [],
   "source": [
    "tfidf = TfidfVectorizer(sublinear_tf=True, min_df=5, norm='l2', encoding='latin-1', ngram_range=(1, 2), stop_words='english')\n"
   ]
  },
  {
   "cell_type": "code",
   "execution_count": 91,
   "metadata": {
    "collapsed": true
   },
   "outputs": [],
   "source": [
    "#features = tfidf.fit_transform(df.Content.values.astype('U')).toarray()\n",
    "labels = df.Category_id"
   ]
  },
  {
   "cell_type": "code",
   "execution_count": 50,
   "metadata": {},
   "outputs": [
    {
     "data": {
      "text/plain": [
       "(17575, 100)"
      ]
     },
     "execution_count": 50,
     "metadata": {},
     "output_type": "execute_result"
    }
   ],
   "source": [
    "features.shape"
   ]
  },
  {
   "cell_type": "code",
   "execution_count": 7,
   "metadata": {
    "collapsed": true
   },
   "outputs": [],
   "source": [
    "category_id_df = df[['Category', 'Category_id']].drop_duplicates().sort_values('Category_id')\n",
    "category_to_id = dict(category_id_df.values)\n",
    "id_to_category = dict(category_id_df[['Category_id', 'Category']].values)"
   ]
  },
  {
   "cell_type": "code",
   "execution_count": null,
   "metadata": {
    "collapsed": true
   },
   "outputs": [],
   "source": []
  },
  {
   "cell_type": "code",
   "execution_count": null,
   "metadata": {
    "collapsed": true
   },
   "outputs": [],
   "source": []
  },
  {
   "cell_type": "code",
   "execution_count": 92,
   "metadata": {
    "collapsed": true
   },
   "outputs": [],
   "source": [
    "from sklearn.linear_model import LogisticRegression\n",
    "from sklearn.ensemble import RandomForestClassifier\n",
    "from sklearn.naive_bayes import MultinomialNB\n",
    "\n",
    "from sklearn.model_selection import cross_val_score\n",
    "\n",
    "\n",
    "models = [\n",
    "    RandomForestClassifier(n_estimators=200, max_depth=3, random_state=0),\n",
    "    MultinomialNB(),\n",
    "    LogisticRegression(random_state=0),\n",
    "]\n",
    "CV = 5\n",
    "cv_df = pd.DataFrame(index=range(CV * len(models)))\n",
    "entries = []\n",
    "for model in models:\n",
    "  model_name = model.__class__.__name__\n",
    "  accuracies = cross_val_score(model, features_scaled, labels, scoring='accuracy', cv=CV)\n",
    "  for fold_idx, accuracy in enumerate(accuracies):\n",
    "    entries.append((model_name, fold_idx, accuracy))\n",
    "cv_df = pd.DataFrame(entries, columns=['model_name', 'fold_idx', 'accuracy'])"
   ]
  },
  {
   "cell_type": "code",
   "execution_count": 93,
   "metadata": {},
   "outputs": [
    {
     "data": {
      "text/plain": [
       "model_name\n",
       "LogisticRegression        0.737070\n",
       "MultinomialNB             0.608876\n",
       "RandomForestClassifier    0.686771\n",
       "Name: accuracy, dtype: float64"
      ]
     },
     "execution_count": 93,
     "metadata": {},
     "output_type": "execute_result"
    }
   ],
   "source": [
    "cv_df.groupby('model_name').accuracy.mean()"
   ]
  },
  {
   "cell_type": "code",
   "execution_count": 94,
   "metadata": {
    "collapsed": true
   },
   "outputs": [],
   "source": [
    "from sklearn import svm "
   ]
  },
  {
   "cell_type": "code",
   "execution_count": 95,
   "metadata": {
    "collapsed": true
   },
   "outputs": [],
   "source": [
    "model = svm.SVC()"
   ]
  },
  {
   "cell_type": "code",
   "execution_count": 96,
   "metadata": {
    "collapsed": true
   },
   "outputs": [],
   "source": [
    "accuracies = cross_val_score(model, features_scaled, labels, scoring='accuracy', cv=CV)"
   ]
  },
  {
   "cell_type": "code",
   "execution_count": 97,
   "metadata": {},
   "outputs": [
    {
     "data": {
      "text/plain": [
       "model_name\n",
       "LogisticRegression        0.737070\n",
       "MultinomialNB             0.608876\n",
       "RandomForestClassifier    0.686771\n",
       "SVM                       0.681707\n",
       "Name: accuracy, dtype: float64"
      ]
     },
     "execution_count": 97,
     "metadata": {},
     "output_type": "execute_result"
    }
   ],
   "source": [
    "for fold_idx, accuracy in enumerate(accuracies):\n",
    "    entries.append(('SVM', fold_idx, accuracy))\n",
    "cv_df_svm = pd.DataFrame(entries, columns=['model_name', 'fold_idx', 'accuracy'])\n",
    "cv_df_svm.groupby('model_name').accuracy.mean()"
   ]
  },
  {
   "cell_type": "code",
   "execution_count": 11,
   "metadata": {
    "collapsed": true
   },
   "outputs": [],
   "source": [
    "from gensim.models.doc2vec import Doc2Vec, TaggedDocument\n",
    "from nltk.tokenize import word_tokenize\n",
    "from nltk.corpus import stopwords"
   ]
  },
  {
   "cell_type": "code",
   "execution_count": 72,
   "metadata": {
    "collapsed": true
   },
   "outputs": [],
   "source": [
    "model = Doc2Vec.load(\"d2v_1000.model\")"
   ]
  },
  {
   "cell_type": "code",
   "execution_count": 7,
   "metadata": {
    "collapsed": true
   },
   "outputs": [],
   "source": [
    "df['doc_vec']=''"
   ]
  },
  {
   "cell_type": "code",
   "execution_count": 15,
   "metadata": {},
   "outputs": [
    {
     "data": {
      "text/html": [
       "<div>\n",
       "<style>\n",
       "    .dataframe thead tr:only-child th {\n",
       "        text-align: right;\n",
       "    }\n",
       "\n",
       "    .dataframe thead th {\n",
       "        text-align: left;\n",
       "    }\n",
       "\n",
       "    .dataframe tbody tr th {\n",
       "        vertical-align: top;\n",
       "    }\n",
       "</style>\n",
       "<table border=\"1\" class=\"dataframe\">\n",
       "  <thead>\n",
       "    <tr style=\"text-align: right;\">\n",
       "      <th></th>\n",
       "      <th>Unnamed: 0</th>\n",
       "      <th>Category_id</th>\n",
       "      <th>Category</th>\n",
       "      <th>Content</th>\n",
       "      <th>doc_vec</th>\n",
       "    </tr>\n",
       "  </thead>\n",
       "  <tbody>\n",
       "    <tr>\n",
       "      <th>0</th>\n",
       "      <td>0</td>\n",
       "      <td>0</td>\n",
       "      <td>Unrest</td>\n",
       "      <td>GANDHINAGAR: The state government's vaunted 'K...</td>\n",
       "      <td></td>\n",
       "    </tr>\n",
       "    <tr>\n",
       "      <th>1</th>\n",
       "      <td>1</td>\n",
       "      <td>0</td>\n",
       "      <td>Unrest</td>\n",
       "      <td>LUCKNOW: A committed RSS pracharak since 1977,...</td>\n",
       "      <td></td>\n",
       "    </tr>\n",
       "    <tr>\n",
       "      <th>2</th>\n",
       "      <td>2</td>\n",
       "      <td>0</td>\n",
       "      <td>Unrest</td>\n",
       "      <td>CHENNAI: As news of the violence spread, the a...</td>\n",
       "      <td></td>\n",
       "    </tr>\n",
       "    <tr>\n",
       "      <th>3</th>\n",
       "      <td>3</td>\n",
       "      <td>0</td>\n",
       "      <td>Unrest</td>\n",
       "      <td>BHIWANDI: Three boys have been rescued from th...</td>\n",
       "      <td></td>\n",
       "    </tr>\n",
       "    <tr>\n",
       "      <th>4</th>\n",
       "      <td>4</td>\n",
       "      <td>0</td>\n",
       "      <td>Unrest</td>\n",
       "      <td>CHANDIGARH: As chief of internal security and ...</td>\n",
       "      <td></td>\n",
       "    </tr>\n",
       "  </tbody>\n",
       "</table>\n",
       "</div>"
      ],
      "text/plain": [
       "   Unnamed: 0  Category_id Category  \\\n",
       "0           0            0   Unrest   \n",
       "1           1            0   Unrest   \n",
       "2           2            0   Unrest   \n",
       "3           3            0   Unrest   \n",
       "4           4            0   Unrest   \n",
       "\n",
       "                                             Content doc_vec  \n",
       "0  GANDHINAGAR: The state government's vaunted 'K...          \n",
       "1  LUCKNOW: A committed RSS pracharak since 1977,...          \n",
       "2  CHENNAI: As news of the violence spread, the a...          \n",
       "3  BHIWANDI: Three boys have been rescued from th...          \n",
       "4  CHANDIGARH: As chief of internal security and ...          "
      ]
     },
     "execution_count": 15,
     "metadata": {},
     "output_type": "execute_result"
    }
   ],
   "source": [
    "df.head()"
   ]
  },
  {
   "cell_type": "code",
   "execution_count": 12,
   "metadata": {
    "collapsed": true
   },
   "outputs": [],
   "source": [
    "stop_words = set(stopwords.words('english'))"
   ]
  },
  {
   "cell_type": "code",
   "execution_count": 74,
   "metadata": {
    "collapsed": true
   },
   "outputs": [],
   "source": [
    "ar = []"
   ]
  },
  {
   "cell_type": "code",
   "execution_count": 75,
   "metadata": {
    "collapsed": true
   },
   "outputs": [],
   "source": [
    "for i,row in df.iterrows():\n",
    "    data = row['Content']\n",
    "    data_tokens = word_tokenize(str(data).lower())\n",
    "    data_tokens = [w for w in data_tokens if not w in stop_words]\n",
    "    vect = model.infer_vector(data_tokens)\n",
    "    ar.append(vect.tolist())"
   ]
  },
  {
   "cell_type": "code",
   "execution_count": 21,
   "metadata": {
    "collapsed": true
   },
   "outputs": [],
   "source": [
    "test_data = df.loc[0,'Content']"
   ]
  },
  {
   "cell_type": "code",
   "execution_count": 22,
   "metadata": {
    "collapsed": true
   },
   "outputs": [],
   "source": [
    "data_tokens = word_tokenize(str(test_data).lower())\n",
    "data_tokens = [w for w in data_tokens if not w in stop_words]\n",
    "vect = model.infer_vector(data_tokens)"
   ]
  },
  {
   "cell_type": "code",
   "execution_count": 23,
   "metadata": {},
   "outputs": [
    {
     "data": {
      "text/plain": [
       "array([ 0.76900941, -0.29018101, -0.06138163, -1.51987684,  2.41676474,\n",
       "       -0.56272179, -0.97849643,  1.11293972,  0.09914044,  0.10332687,\n",
       "        0.38226992,  1.25646257, -1.44931459, -0.69849789, -0.83102399,\n",
       "        1.99691987, -0.61130983,  0.64886755,  0.09298159, -0.80887598,\n",
       "       -0.8939904 , -0.52266771, -0.99275148,  0.57647514,  0.25427195,\n",
       "        0.33222294, -0.69538558, -0.33095419,  0.42254391,  1.08177769,\n",
       "       -0.07613824, -0.70678025,  0.38001397,  0.28226298, -0.08400863,\n",
       "       -0.02486588, -0.27556494,  0.01048516,  0.81660628,  1.39349806,\n",
       "        0.49412137,  1.2568779 , -0.84635854, -0.0200718 , -1.67633891,\n",
       "        0.46781781, -0.6212343 , -0.58668345, -0.36506507,  0.91695374,\n",
       "       -0.4921917 , -0.63680071, -0.18354721, -0.24805082, -0.63677657,\n",
       "       -0.74047387,  2.53398609,  1.02809918, -0.56973469, -0.68804806,\n",
       "       -1.33190286, -0.17316763,  1.09511745, -0.21756937,  0.08201377,\n",
       "       -0.21132477, -0.84460473,  0.0280581 , -0.70572782,  0.15014178,\n",
       "        0.7544893 ,  0.17186891, -0.06824902,  1.03076243, -0.10001671,\n",
       "        0.22208039,  0.37808627, -2.11658144, -0.17612116,  0.1308247 ,\n",
       "       -1.53972042,  0.14603312, -0.28225666,  1.08702123, -0.47270885,\n",
       "       -0.15735768, -0.28741995,  0.33201736,  0.08478967,  1.02803421,\n",
       "        0.05638617, -0.18489391, -0.94789594,  1.41834748, -0.76109004,\n",
       "       -0.29341441,  0.9179799 ,  1.45922709,  0.17884853,  0.06542724], dtype=float32)"
      ]
     },
     "execution_count": 23,
     "metadata": {},
     "output_type": "execute_result"
    }
   ],
   "source": [
    "vect"
   ]
  },
  {
   "cell_type": "code",
   "execution_count": 33,
   "metadata": {
    "collapsed": true
   },
   "outputs": [],
   "source": [
    "ar = []"
   ]
  },
  {
   "cell_type": "code",
   "execution_count": 36,
   "metadata": {
    "collapsed": true
   },
   "outputs": [],
   "source": [
    "ar.append(vect.tolist())"
   ]
  },
  {
   "cell_type": "code",
   "execution_count": 76,
   "metadata": {
    "collapsed": true
   },
   "outputs": [],
   "source": [
    "labels = df.Category"
   ]
  },
  {
   "cell_type": "code",
   "execution_count": 77,
   "metadata": {
    "collapsed": true
   },
   "outputs": [],
   "source": [
    "ar = np.array(ar)"
   ]
  },
  {
   "cell_type": "code",
   "execution_count": 78,
   "metadata": {
    "collapsed": true
   },
   "outputs": [],
   "source": [
    "features = ar"
   ]
  },
  {
   "cell_type": "code",
   "execution_count": 51,
   "metadata": {
    "collapsed": true
   },
   "outputs": [],
   "source": [
    "from sklearn.preprocessing import normalize"
   ]
  },
  {
   "cell_type": "code",
   "execution_count": 54,
   "metadata": {
    "collapsed": true
   },
   "outputs": [],
   "source": [
    "normed_features = normalize(features, axis=1, norm='l1')"
   ]
  },
  {
   "cell_type": "code",
   "execution_count": 55,
   "metadata": {},
   "outputs": [
    {
     "data": {
      "text/plain": [
       "array([[  1.54034906e-02,   7.72814118e-04,   8.90863763e-04, ...,\n",
       "          1.67849812e-02,  -2.60258465e-03,   3.41381379e-03],\n",
       "       [  1.32453332e-02,   5.05216106e-03,  -4.54155277e-03, ...,\n",
       "          3.17486287e-04,  -2.55697951e-03,  -6.69296116e-03],\n",
       "       [  5.26897999e-04,   4.13532773e-03,  -2.99453674e-03, ...,\n",
       "          2.54291307e-02,  -1.45971430e-03,   7.21211516e-03],\n",
       "       ..., \n",
       "       [  1.00449093e-02,  -2.29318207e-04,  -2.34386108e-03, ...,\n",
       "          2.20344293e-02,   5.10061851e-03,  -1.68724563e-05],\n",
       "       [  6.05659112e-03,   9.10530195e-03,  -2.15486520e-02, ...,\n",
       "          1.20373627e-02,   3.75589537e-04,   7.68128317e-03],\n",
       "       [  1.73807328e-02,  -2.10008310e-03,  -1.24767897e-02, ...,\n",
       "          1.46132912e-02,   2.27289162e-03,  -5.14664427e-03]])"
      ]
     },
     "execution_count": 55,
     "metadata": {},
     "output_type": "execute_result"
    }
   ],
   "source": [
    "normed_features"
   ]
  },
  {
   "cell_type": "code",
   "execution_count": 79,
   "metadata": {
    "collapsed": true
   },
   "outputs": [],
   "source": [
    "import sklearn.preprocessing as sk\n",
    "from sklearn.preprocessing import scale"
   ]
  },
  {
   "cell_type": "code",
   "execution_count": 80,
   "metadata": {
    "collapsed": true
   },
   "outputs": [],
   "source": [
    "scaler = sk.MinMaxScaler(feature_range=(0, 1))"
   ]
  },
  {
   "cell_type": "markdown",
   "metadata": {
    "collapsed": true
   },
   "source": [
    "scaler = scaler.fit(features)\n",
    "features_scaled = scaler.transform(features)"
   ]
  },
  {
   "cell_type": "code",
   "execution_count": 89,
   "metadata": {},
   "outputs": [
    {
     "data": {
      "text/plain": [
       "1000"
      ]
     },
     "execution_count": 89,
     "metadata": {},
     "output_type": "execute_result"
    }
   ],
   "source": [
    "len(features_scaled[0])"
   ]
  },
  {
   "cell_type": "code",
   "execution_count": 32,
   "metadata": {
    "collapsed": true
   },
   "outputs": [],
   "source": [
    "df_u = df_unrest[['content','sentiment_compound','sentiment_neu','sentiment_neg','sentiment_pos']]"
   ]
  },
  {
   "cell_type": "code",
   "execution_count": 53,
   "metadata": {
    "collapsed": true
   },
   "outputs": [],
   "source": [
    "df_o = df_other[['Content','sentiment_compound','sentiment_neu','sentiment_neg','sentiment_pos']]"
   ]
  },
  {
   "cell_type": "code",
   "execution_count": 49,
   "metadata": {
    "collapsed": true
   },
   "outputs": [],
   "source": [
    "df_class = pd.DataFrame(columns=['Content','sentiment_compound','sentiment_neu','sentiment_neg','sentiment_pos','Category'])"
   ]
  },
  {
   "cell_type": "code",
   "execution_count": 56,
   "metadata": {},
   "outputs": [
    {
     "name": "stderr",
     "output_type": "stream",
     "text": [
      "/anaconda3/lib/python3.6/site-packages/ipykernel_launcher.py:1: SettingWithCopyWarning: \n",
      "A value is trying to be set on a copy of a slice from a DataFrame.\n",
      "Try using .loc[row_indexer,col_indexer] = value instead\n",
      "\n",
      "See the caveats in the documentation: http://pandas.pydata.org/pandas-docs/stable/indexing.html#indexing-view-versus-copy\n",
      "  \"\"\"Entry point for launching an IPython kernel.\n"
     ]
    }
   ],
   "source": [
    "df_o['category'] = 'other'"
   ]
  },
  {
   "cell_type": "code",
   "execution_count": 57,
   "metadata": {
    "collapsed": true
   },
   "outputs": [],
   "source": [
    "for i,row in df_o.iterrows():\n",
    "    d = {'Content':row['Content'],'sentiment_compound':row['sentiment_compound'],'sentiment_neu':row['sentiment_neu'],'sentiment_neg':row['sentiment_neg'],'sentiment_pos':row['sentiment_pos'],'Category':'other'}\n",
    "    df_class = df_class.append(d,ignore_index=True)"
   ]
  },
  {
   "cell_type": "code",
   "execution_count": 58,
   "metadata": {},
   "outputs": [
    {
     "data": {
      "text/plain": [
       "(17575, 6)"
      ]
     },
     "execution_count": 58,
     "metadata": {},
     "output_type": "execute_result"
    }
   ],
   "source": [
    "df_class.shape"
   ]
  },
  {
   "cell_type": "code",
   "execution_count": 59,
   "metadata": {
    "collapsed": true
   },
   "outputs": [],
   "source": [
    "df_class.to_csv('classification_data.csv')"
   ]
  },
  {
   "cell_type": "code",
   "execution_count": null,
   "metadata": {
    "collapsed": true
   },
   "outputs": [],
   "source": []
  }
 ],
 "metadata": {
  "kernelspec": {
   "display_name": "Python 3",
   "language": "python",
   "name": "python3"
  },
  "language_info": {
   "codemirror_mode": {
    "name": "ipython",
    "version": 3
   },
   "file_extension": ".py",
   "mimetype": "text/x-python",
   "name": "python",
   "nbconvert_exporter": "python",
   "pygments_lexer": "ipython3",
   "version": "3.6.2"
  }
 },
 "nbformat": 4,
 "nbformat_minor": 2
}

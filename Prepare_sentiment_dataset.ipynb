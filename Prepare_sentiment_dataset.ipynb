{
 "cells": [
  {
   "cell_type": "code",
   "execution_count": 1,
   "metadata": {
    "collapsed": true
   },
   "outputs": [],
   "source": [
    "import numpy as np\n",
    "import pandas as pd\n",
    "import os\n",
    "import glob"
   ]
  },
  {
   "cell_type": "code",
   "execution_count": 3,
   "metadata": {
    "collapsed": true
   },
   "outputs": [],
   "source": [
    "feb1 = pd.read_csv('/Users/venkatakrishnamohansunkara/Desktop/reqd docs/Data_Mining/data_mining/project/test_textmining/event_locations_text_mining2 (1).csv')\n",
    "\n",
    "feb2 = pd.read_csv('/Users/venkatakrishnamohansunkara/Desktop/reqd docs/Data_Mining/data_mining/project/test_textmining/event_locations_text_mining3.csv')"
   ]
  },
  {
   "cell_type": "code",
   "execution_count": 29,
   "metadata": {
    "collapsed": true
   },
   "outputs": [],
   "source": [
    "mar1 = pd.read_csv('/Users/venkatakrishnamohansunkara/Desktop/reqd docs/Data_Mining/data_mining/project/test_textmining/event_locations_text_mining2.csv')\n",
    "\n",
    "mar2 = pd.read_csv('/Users/venkatakrishnamohansunkara/Desktop/reqd docs/Data_Mining/data_mining/project/test_textmining/event_locations_text_mining4.csv')"
   ]
  },
  {
   "cell_type": "code",
   "execution_count": 32,
   "metadata": {
    "collapsed": true
   },
   "outputs": [],
   "source": [
    "mar2.drop('Unnamed: 0',axis=1,inplace=True)"
   ]
  },
  {
   "cell_type": "code",
   "execution_count": 33,
   "metadata": {},
   "outputs": [
    {
     "data": {
      "text/html": [
       "<div>\n",
       "<style>\n",
       "    .dataframe thead tr:only-child th {\n",
       "        text-align: right;\n",
       "    }\n",
       "\n",
       "    .dataframe thead th {\n",
       "        text-align: left;\n",
       "    }\n",
       "\n",
       "    .dataframe tbody tr th {\n",
       "        vertical-align: top;\n",
       "    }\n",
       "</style>\n",
       "<table border=\"1\" class=\"dataframe\">\n",
       "  <thead>\n",
       "    <tr style=\"text-align: right;\">\n",
       "      <th></th>\n",
       "      <th>lat</th>\n",
       "      <th>lon</th>\n",
       "      <th>filename</th>\n",
       "    </tr>\n",
       "  </thead>\n",
       "  <tbody>\n",
       "    <tr>\n",
       "      <th>0</th>\n",
       "      <td>25.594095</td>\n",
       "      <td>85.137564</td>\n",
       "      <td>3-1-2017_article129.txt</td>\n",
       "    </tr>\n",
       "    <tr>\n",
       "      <th>1</th>\n",
       "      <td>21.145800</td>\n",
       "      <td>79.088155</td>\n",
       "      <td>3-1-2017_article155.txt</td>\n",
       "    </tr>\n",
       "    <tr>\n",
       "      <th>2</th>\n",
       "      <td>21.145800</td>\n",
       "      <td>79.088155</td>\n",
       "      <td>3-1-2017_article158.txt</td>\n",
       "    </tr>\n",
       "    <tr>\n",
       "      <th>3</th>\n",
       "      <td>21.170240</td>\n",
       "      <td>72.831061</td>\n",
       "      <td>3-1-2017_article179.txt</td>\n",
       "    </tr>\n",
       "    <tr>\n",
       "      <th>4</th>\n",
       "      <td>23.022505</td>\n",
       "      <td>72.571362</td>\n",
       "      <td>3-1-2017_article180.txt</td>\n",
       "    </tr>\n",
       "  </tbody>\n",
       "</table>\n",
       "</div>"
      ],
      "text/plain": [
       "         lat        lon                 filename\n",
       "0  25.594095  85.137564  3-1-2017_article129.txt\n",
       "1  21.145800  79.088155  3-1-2017_article155.txt\n",
       "2  21.145800  79.088155  3-1-2017_article158.txt\n",
       "3  21.170240  72.831061  3-1-2017_article179.txt\n",
       "4  23.022505  72.571362  3-1-2017_article180.txt"
      ]
     },
     "execution_count": 33,
     "metadata": {},
     "output_type": "execute_result"
    }
   ],
   "source": [
    "mar2.head()"
   ]
  },
  {
   "cell_type": "code",
   "execution_count": 34,
   "metadata": {
    "collapsed": true
   },
   "outputs": [],
   "source": [
    "sentiment_data = pd.DataFrame(columns=['lat','lon','Date','filename','content'])"
   ]
  },
  {
   "cell_type": "code",
   "execution_count": 42,
   "metadata": {
    "collapsed": true
   },
   "outputs": [],
   "source": [
    "sentiment_data = pd.DataFrame(columns=['lat','lon','Date'])"
   ]
  },
  {
   "cell_type": "code",
   "execution_count": 40,
   "metadata": {
    "collapsed": true
   },
   "outputs": [],
   "source": [
    "ind = 0\n",
    "for i,row in mar2.iterrows():\n",
    "    date = row['filename'].split('_')[0]\n",
    "    file = \"/Users/venkatakrishnamohansunkara/Desktop/DM/mar_articles_unrest/\"+row['filename']\n",
    "    data = \"\"\n",
    "    try:\n",
    "        with open(file,'r') as myfile:\n",
    "            data = myfile.readlines()[3:]\n",
    "        data = ''.join(data)\n",
    "        sentiment_data = sentiment_data.append({'lat': row['lat'],'lon': row['lon'],'Date': date,'filename':row['filename'],'content':data},ignore_index=True)\n",
    "    except:\n",
    "        continue"
   ]
  },
  {
   "cell_type": "code",
   "execution_count": 41,
   "metadata": {},
   "outputs": [
    {
     "data": {
      "text/plain": [
       "(2855, 5)"
      ]
     },
     "execution_count": 41,
     "metadata": {},
     "output_type": "execute_result"
    }
   ],
   "source": [
    "sentiment_data.shape"
   ]
  },
  {
   "cell_type": "code",
   "execution_count": 42,
   "metadata": {
    "collapsed": true
   },
   "outputs": [],
   "source": [
    "sentiment_data.to_csv('unrest_sentiment_analysis_data_mar.csv')"
   ]
  },
  {
   "cell_type": "code",
   "execution_count": 43,
   "metadata": {
    "collapsed": true
   },
   "outputs": [],
   "source": [
    "sentiment_data_other = pd.DataFrame(columns=['Category','Content'])"
   ]
  },
  {
   "cell_type": "code",
   "execution_count": 45,
   "metadata": {
    "collapsed": true
   },
   "outputs": [],
   "source": [
    "for file in glob.glob(\"/Users/venkatakrishnamohansunkara/Desktop/DM/mar_articles_other/\"+\"*\"):\n",
    "    categ = \"other\"\n",
    "    try:\n",
    "        with open(file,'r') as myfile:\n",
    "            data = myfile.readlines()[3:]\n",
    "        data = ''.join(data)\n",
    "        sentiment_data_other = sentiment_data_other.append({'Category':categ,'Content':data},ignore_index=True)\n",
    "    except:\n",
    "        continue"
   ]
  },
  {
   "cell_type": "code",
   "execution_count": 55,
   "metadata": {
    "collapsed": true
   },
   "outputs": [],
   "source": [
    "df2 = pd.read_csv('articels_dataset.csv')"
   ]
  },
  {
   "cell_type": "code",
   "execution_count": 57,
   "metadata": {
    "collapsed": true
   },
   "outputs": [],
   "source": [
    "df2.drop(['Unnamed: 0'],axis=1,inplace=True)"
   ]
  },
  {
   "cell_type": "code",
   "execution_count": 58,
   "metadata": {},
   "outputs": [
    {
     "data": {
      "text/html": [
       "<div>\n",
       "<style>\n",
       "    .dataframe thead tr:only-child th {\n",
       "        text-align: right;\n",
       "    }\n",
       "\n",
       "    .dataframe thead th {\n",
       "        text-align: left;\n",
       "    }\n",
       "\n",
       "    .dataframe tbody tr th {\n",
       "        vertical-align: top;\n",
       "    }\n",
       "</style>\n",
       "<table border=\"1\" class=\"dataframe\">\n",
       "  <thead>\n",
       "    <tr style=\"text-align: right;\">\n",
       "      <th></th>\n",
       "      <th>Category</th>\n",
       "      <th>Content</th>\n",
       "    </tr>\n",
       "  </thead>\n",
       "  <tbody>\n",
       "    <tr>\n",
       "      <th>0</th>\n",
       "      <td>unrest</td>\n",
       "      <td>GANDHINAGAR: The state government's vaunted 'K...</td>\n",
       "    </tr>\n",
       "    <tr>\n",
       "      <th>1</th>\n",
       "      <td>unrest</td>\n",
       "      <td>CHANDIGARH: To avoid further embarrassment, th...</td>\n",
       "    </tr>\n",
       "    <tr>\n",
       "      <th>2</th>\n",
       "      <td>unrest</td>\n",
       "      <td>LUCKNOW: A committed RSS pracharak since 1977,...</td>\n",
       "    </tr>\n",
       "    <tr>\n",
       "      <th>3</th>\n",
       "      <td>unrest</td>\n",
       "      <td>Sangam: At a time when Allahabad is playing ho...</td>\n",
       "    </tr>\n",
       "    <tr>\n",
       "      <th>4</th>\n",
       "      <td>unrest</td>\n",
       "      <td>CHENNAI: As news of the violence spread, the a...</td>\n",
       "    </tr>\n",
       "  </tbody>\n",
       "</table>\n",
       "</div>"
      ],
      "text/plain": [
       "  Category                                            Content\n",
       "0   unrest  GANDHINAGAR: The state government's vaunted 'K...\n",
       "1   unrest  CHANDIGARH: To avoid further embarrassment, th...\n",
       "2   unrest  LUCKNOW: A committed RSS pracharak since 1977,...\n",
       "3   unrest  Sangam: At a time when Allahabad is playing ho...\n",
       "4   unrest  CHENNAI: As news of the violence spread, the a..."
      ]
     },
     "execution_count": 58,
     "metadata": {},
     "output_type": "execute_result"
    }
   ],
   "source": [
    "df2.head()"
   ]
  },
  {
   "cell_type": "code",
   "execution_count": 60,
   "metadata": {
    "collapsed": true
   },
   "outputs": [],
   "source": [
    "df_other = df2[df2['Category'] == 'other']"
   ]
  },
  {
   "cell_type": "code",
   "execution_count": 46,
   "metadata": {},
   "outputs": [
    {
     "data": {
      "text/html": [
       "<div>\n",
       "<style>\n",
       "    .dataframe thead tr:only-child th {\n",
       "        text-align: right;\n",
       "    }\n",
       "\n",
       "    .dataframe thead th {\n",
       "        text-align: left;\n",
       "    }\n",
       "\n",
       "    .dataframe tbody tr th {\n",
       "        vertical-align: top;\n",
       "    }\n",
       "</style>\n",
       "<table border=\"1\" class=\"dataframe\">\n",
       "  <thead>\n",
       "    <tr style=\"text-align: right;\">\n",
       "      <th></th>\n",
       "      <th>Category</th>\n",
       "      <th>Content</th>\n",
       "    </tr>\n",
       "  </thead>\n",
       "  <tbody>\n",
       "    <tr>\n",
       "      <th>0</th>\n",
       "      <td>other</td>\n",
       "      <td>LUCKNOW: Priyanka Gandhi's enhanced role in Co...</td>\n",
       "    </tr>\n",
       "    <tr>\n",
       "      <th>1</th>\n",
       "      <td>other</td>\n",
       "      <td>Sushant Singh Rajput and Jacqueline Fernandez ...</td>\n",
       "    </tr>\n",
       "    <tr>\n",
       "      <th>2</th>\n",
       "      <td>other</td>\n",
       "      <td>KOLKATA: It may be a modest start but 35 stree...</td>\n",
       "    </tr>\n",
       "    <tr>\n",
       "      <th>3</th>\n",
       "      <td>other</td>\n",
       "      <td>IMPHAL: Governor Najma Heptulla on Friday call...</td>\n",
       "    </tr>\n",
       "    <tr>\n",
       "      <th>4</th>\n",
       "      <td>other</td>\n",
       "      <td>Actor Suraj Sharma will be seen opposite Anush...</td>\n",
       "    </tr>\n",
       "  </tbody>\n",
       "</table>\n",
       "</div>"
      ],
      "text/plain": [
       "  Category                                            Content\n",
       "0    other  LUCKNOW: Priyanka Gandhi's enhanced role in Co...\n",
       "1    other  Sushant Singh Rajput and Jacqueline Fernandez ...\n",
       "2    other  KOLKATA: It may be a modest start but 35 stree...\n",
       "3    other  IMPHAL: Governor Najma Heptulla on Friday call...\n",
       "4    other  Actor Suraj Sharma will be seen opposite Anush..."
      ]
     },
     "execution_count": 46,
     "metadata": {},
     "output_type": "execute_result"
    }
   ],
   "source": [
    "sentiment_data_other.head()"
   ]
  },
  {
   "cell_type": "code",
   "execution_count": 47,
   "metadata": {
    "collapsed": true
   },
   "outputs": [],
   "source": [
    "sentiment_data_other.to_csv('other_sentiment_analysis_data_mar.csv')"
   ]
  },
  {
   "cell_type": "code",
   "execution_count": 59,
   "metadata": {
    "collapsed": true
   },
   "outputs": [],
   "source": [
    "jan_unrest = pd.read_csv('unrest_sentiment_analysis_data_jan.csv')"
   ]
  },
  {
   "cell_type": "code",
   "execution_count": 49,
   "metadata": {
    "collapsed": true
   },
   "outputs": [],
   "source": [
    "jan_other = pd.read_csv('other_sentiment_analysis_data_jan.csv')"
   ]
  },
  {
   "cell_type": "code",
   "execution_count": 50,
   "metadata": {
    "collapsed": true
   },
   "outputs": [],
   "source": [
    "feb_unrest = pd.read_csv('unrest_sentiment_analysis_data_feb.csv')"
   ]
  },
  {
   "cell_type": "code",
   "execution_count": 51,
   "metadata": {
    "collapsed": true
   },
   "outputs": [],
   "source": [
    "feb_other = pd.read_csv('other_sentiment_analysis_data_feb.csv')"
   ]
  },
  {
   "cell_type": "code",
   "execution_count": 52,
   "metadata": {
    "collapsed": true
   },
   "outputs": [],
   "source": [
    "mar_unrest = pd.read_csv('unrest_sentiment_analysis_data_mar.csv')"
   ]
  },
  {
   "cell_type": "code",
   "execution_count": 53,
   "metadata": {
    "collapsed": true
   },
   "outputs": [],
   "source": [
    "mar_other = pd.read_csv('other_sentiment_analysis_data_mar.csv')"
   ]
  },
  {
   "cell_type": "code",
   "execution_count": 54,
   "metadata": {
    "collapsed": true
   },
   "outputs": [],
   "source": [
    "unrest_data = pd.concat([jan_unrest,feb_unrest,mar_unrest])"
   ]
  },
  {
   "cell_type": "code",
   "execution_count": 62,
   "metadata": {
    "collapsed": true
   },
   "outputs": [],
   "source": [
    "jan_unrest = jan_unrest[['lat','lon','Date','filename','content']]"
   ]
  },
  {
   "cell_type": "code",
   "execution_count": 78,
   "metadata": {
    "collapsed": true
   },
   "outputs": [],
   "source": [
    "mar_other.drop(['Unnamed: 0'],axis=1,inplace=True)"
   ]
  },
  {
   "cell_type": "code",
   "execution_count": 80,
   "metadata": {},
   "outputs": [
    {
     "data": {
      "text/html": [
       "<div>\n",
       "<style>\n",
       "    .dataframe thead tr:only-child th {\n",
       "        text-align: right;\n",
       "    }\n",
       "\n",
       "    .dataframe thead th {\n",
       "        text-align: left;\n",
       "    }\n",
       "\n",
       "    .dataframe tbody tr th {\n",
       "        vertical-align: top;\n",
       "    }\n",
       "</style>\n",
       "<table border=\"1\" class=\"dataframe\">\n",
       "  <thead>\n",
       "    <tr style=\"text-align: right;\">\n",
       "      <th></th>\n",
       "      <th>Category</th>\n",
       "      <th>Content</th>\n",
       "    </tr>\n",
       "  </thead>\n",
       "  <tbody>\n",
       "    <tr>\n",
       "      <th>0</th>\n",
       "      <td>other</td>\n",
       "      <td>MUMBAI: \"It hurts, man, it really hurts,\" repl...</td>\n",
       "    </tr>\n",
       "    <tr>\n",
       "      <th>1</th>\n",
       "      <td>other</td>\n",
       "      <td>The city’s art connoisseurs were in for a trea...</td>\n",
       "    </tr>\n",
       "    <tr>\n",
       "      <th>2</th>\n",
       "      <td>other</td>\n",
       "      <td>LUCKNOW: Eager to rev up her political prospec...</td>\n",
       "    </tr>\n",
       "    <tr>\n",
       "      <th>3</th>\n",
       "      <td>other</td>\n",
       "      <td>GANDHINAGAR: The eighth edition of the Vibrant...</td>\n",
       "    </tr>\n",
       "    <tr>\n",
       "      <th>4</th>\n",
       "      <td>other</td>\n",
       "      <td>There is good news for all SRK and Salman Khan...</td>\n",
       "    </tr>\n",
       "  </tbody>\n",
       "</table>\n",
       "</div>"
      ],
      "text/plain": [
       "  Category                                            Content\n",
       "0    other  MUMBAI: \"It hurts, man, it really hurts,\" repl...\n",
       "1    other  The city’s art connoisseurs were in for a trea...\n",
       "2    other  LUCKNOW: Eager to rev up her political prospec...\n",
       "3    other  GANDHINAGAR: The eighth edition of the Vibrant...\n",
       "4    other  There is good news for all SRK and Salman Khan..."
      ]
     },
     "execution_count": 80,
     "metadata": {},
     "output_type": "execute_result"
    }
   ],
   "source": [
    "jan_other.head()"
   ]
  },
  {
   "cell_type": "code",
   "execution_count": 83,
   "metadata": {
    "collapsed": true
   },
   "outputs": [],
   "source": [
    "other_data = pd.concat([jan_other,feb_other,mar_other])"
   ]
  },
  {
   "cell_type": "code",
   "execution_count": 84,
   "metadata": {},
   "outputs": [
    {
     "data": {
      "text/html": [
       "<div>\n",
       "<style>\n",
       "    .dataframe thead tr:only-child th {\n",
       "        text-align: right;\n",
       "    }\n",
       "\n",
       "    .dataframe thead th {\n",
       "        text-align: left;\n",
       "    }\n",
       "\n",
       "    .dataframe tbody tr th {\n",
       "        vertical-align: top;\n",
       "    }\n",
       "</style>\n",
       "<table border=\"1\" class=\"dataframe\">\n",
       "  <thead>\n",
       "    <tr style=\"text-align: right;\">\n",
       "      <th></th>\n",
       "      <th>lat</th>\n",
       "      <th>lon</th>\n",
       "      <th>Date</th>\n",
       "      <th>filename</th>\n",
       "      <th>content</th>\n",
       "    </tr>\n",
       "  </thead>\n",
       "  <tbody>\n",
       "    <tr>\n",
       "      <th>0</th>\n",
       "      <td>23.2156354</td>\n",
       "      <td>72.6369415</td>\n",
       "      <td>1/18/17</td>\n",
       "      <td>1-18-2017_article272.txt</td>\n",
       "      <td>GANDHINAGAR: The state government's vaunted 'K...</td>\n",
       "    </tr>\n",
       "    <tr>\n",
       "      <th>1</th>\n",
       "      <td>26.8466937</td>\n",
       "      <td>80.946166</td>\n",
       "      <td>1/28/17</td>\n",
       "      <td>1-28-2017_article445.txt</td>\n",
       "      <td>LUCKNOW: A committed RSS pracharak since 1977,...</td>\n",
       "    </tr>\n",
       "    <tr>\n",
       "      <th>2</th>\n",
       "      <td>13.0826802</td>\n",
       "      <td>80.2707184</td>\n",
       "      <td>1/24/17</td>\n",
       "      <td>1-24-2017_article225.txt</td>\n",
       "      <td>CHENNAI: As news of the violence spread, the a...</td>\n",
       "    </tr>\n",
       "    <tr>\n",
       "      <th>3</th>\n",
       "      <td>19.2812547</td>\n",
       "      <td>73.0482912</td>\n",
       "      <td>1/21/17</td>\n",
       "      <td>1-21-2017_article357.txt</td>\n",
       "      <td>BHIWANDI: Three boys have been rescued from th...</td>\n",
       "    </tr>\n",
       "    <tr>\n",
       "      <th>4</th>\n",
       "      <td>30.7333148</td>\n",
       "      <td>76.7794179</td>\n",
       "      <td>1/28/17</td>\n",
       "      <td>1-28-2017_article337.txt</td>\n",
       "      <td>CHANDIGARH: As chief of internal security and ...</td>\n",
       "    </tr>\n",
       "  </tbody>\n",
       "</table>\n",
       "</div>"
      ],
      "text/plain": [
       "          lat         lon     Date                  filename  \\\n",
       "0  23.2156354  72.6369415  1/18/17  1-18-2017_article272.txt   \n",
       "1  26.8466937   80.946166  1/28/17  1-28-2017_article445.txt   \n",
       "2  13.0826802  80.2707184  1/24/17  1-24-2017_article225.txt   \n",
       "3  19.2812547  73.0482912  1/21/17  1-21-2017_article357.txt   \n",
       "4  30.7333148  76.7794179  1/28/17  1-28-2017_article337.txt   \n",
       "\n",
       "                                             content  \n",
       "0  GANDHINAGAR: The state government's vaunted 'K...  \n",
       "1  LUCKNOW: A committed RSS pracharak since 1977,...  \n",
       "2  CHENNAI: As news of the violence spread, the a...  \n",
       "3  BHIWANDI: Three boys have been rescued from th...  \n",
       "4  CHANDIGARH: As chief of internal security and ...  "
      ]
     },
     "execution_count": 84,
     "metadata": {},
     "output_type": "execute_result"
    }
   ],
   "source": [
    "unrest_data.head()"
   ]
  },
  {
   "cell_type": "code",
   "execution_count": 85,
   "metadata": {
    "collapsed": true
   },
   "outputs": [],
   "source": [
    "unrest_data.to_csv('sentiment_analysis_unrest.csv')"
   ]
  },
  {
   "cell_type": "code",
   "execution_count": 86,
   "metadata": {
    "collapsed": true
   },
   "outputs": [],
   "source": [
    "other_data.to_csv('sentiment_analysis_other.csv')"
   ]
  },
  {
   "cell_type": "code",
   "execution_count": 2,
   "metadata": {
    "collapsed": true
   },
   "outputs": [],
   "source": [
    "df = pd.read_csv('sentiment_analysis_unrest.csv')"
   ]
  },
  {
   "cell_type": "code",
   "execution_count": null,
   "metadata": {},
   "outputs": [],
   "source": []
  },
  {
   "cell_type": "code",
   "execution_count": null,
   "metadata": {
    "collapsed": true
   },
   "outputs": [],
   "source": []
  }
 ],
 "metadata": {
  "kernelspec": {
   "display_name": "Python 3",
   "language": "python",
   "name": "python3"
  },
  "language_info": {
   "codemirror_mode": {
    "name": "ipython",
    "version": 3
   },
   "file_extension": ".py",
   "mimetype": "text/x-python",
   "name": "python",
   "nbconvert_exporter": "python",
   "pygments_lexer": "ipython3",
   "version": "3.6.2"
  }
 },
 "nbformat": 4,
 "nbformat_minor": 2
}
